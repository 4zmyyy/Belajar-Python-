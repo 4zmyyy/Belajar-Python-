{
  "cells": [
    {
      "cell_type": "markdown",
      "metadata": {
        "id": "view-in-github",
        "colab_type": "text"
      },
      "source": [
        "<a href=\"https://colab.research.google.com/github/4zmyyy/Belajarpyhton/blob/main/Belajar_Phyton_140225.ipynb\" target=\"_parent\"><img src=\"https://colab.research.google.com/assets/colab-badge.svg\" alt=\"Open In Colab\"/></a>"
      ]
    },
    {
      "cell_type": "code",
      "execution_count": null,
      "metadata": {
        "colab": {
          "base_uri": "https://localhost:8080/"
        },
        "id": "9KoW4czyQOJE",
        "outputId": "216bcb2b-f6bf-4aeb-8837-b3023c5e3a19"
      },
      "outputs": [
        {
          "name": "stdout",
          "output_type": "stream",
          "text": [
            "Hello, world\n"
          ]
        }
      ],
      "source": [
        "print (\"Hello, world\")"
      ]
    },
    {
      "cell_type": "code",
      "execution_count": 2,
      "metadata": {
        "colab": {
          "base_uri": "https://localhost:8080/",
          "height": 356
        },
        "id": "9ZpM84KCT0z9",
        "outputId": "4dd74d35-0dc9-46fc-c843-d1fb4ee753e8"
      },
      "outputs": [
        {
          "output_type": "error",
          "ename": "KeyboardInterrupt",
          "evalue": "Interrupted by user",
          "traceback": [
            "\u001b[0;31m---------------------------------------------------------------------------\u001b[0m",
            "\u001b[0;31mKeyboardInterrupt\u001b[0m                         Traceback (most recent call last)",
            "\u001b[0;32m<ipython-input-2-1dee05813d04>\u001b[0m in \u001b[0;36m<cell line: 0>\u001b[0;34m()\u001b[0m\n\u001b[1;32m     18\u001b[0m \u001b[0mprint\u001b[0m\u001b[0;34m(\u001b[0m\u001b[0;34m\"4. Bagi\"\u001b[0m\u001b[0;34m)\u001b[0m\u001b[0;34m\u001b[0m\u001b[0;34m\u001b[0m\u001b[0m\n\u001b[1;32m     19\u001b[0m \u001b[0;34m\u001b[0m\u001b[0m\n\u001b[0;32m---> 20\u001b[0;31m \u001b[0mpilihan\u001b[0m \u001b[0;34m=\u001b[0m \u001b[0minput\u001b[0m\u001b[0;34m(\u001b[0m\u001b[0;34m\"Masukkan pilihan (1/2/3/4): \"\u001b[0m\u001b[0;34m)\u001b[0m\u001b[0;34m\u001b[0m\u001b[0;34m\u001b[0m\u001b[0m\n\u001b[0m\u001b[1;32m     21\u001b[0m \u001b[0;34m\u001b[0m\u001b[0m\n\u001b[1;32m     22\u001b[0m \u001b[0mnum1\u001b[0m \u001b[0;34m=\u001b[0m \u001b[0mfloat\u001b[0m\u001b[0;34m(\u001b[0m\u001b[0minput\u001b[0m\u001b[0;34m(\u001b[0m\u001b[0;34m\"Masukkan angka pertama: \"\u001b[0m\u001b[0;34m)\u001b[0m\u001b[0;34m)\u001b[0m\u001b[0;34m\u001b[0m\u001b[0;34m\u001b[0m\u001b[0m\n",
            "\u001b[0;32m/usr/local/lib/python3.11/dist-packages/ipykernel/kernelbase.py\u001b[0m in \u001b[0;36mraw_input\u001b[0;34m(self, prompt)\u001b[0m\n\u001b[1;32m    849\u001b[0m                 \u001b[0;34m\"raw_input was called, but this frontend does not support input requests.\"\u001b[0m\u001b[0;34m\u001b[0m\u001b[0;34m\u001b[0m\u001b[0m\n\u001b[1;32m    850\u001b[0m             )\n\u001b[0;32m--> 851\u001b[0;31m         return self._input_request(str(prompt),\n\u001b[0m\u001b[1;32m    852\u001b[0m             \u001b[0mself\u001b[0m\u001b[0;34m.\u001b[0m\u001b[0m_parent_ident\u001b[0m\u001b[0;34m,\u001b[0m\u001b[0;34m\u001b[0m\u001b[0;34m\u001b[0m\u001b[0m\n\u001b[1;32m    853\u001b[0m             \u001b[0mself\u001b[0m\u001b[0;34m.\u001b[0m\u001b[0m_parent_header\u001b[0m\u001b[0;34m,\u001b[0m\u001b[0;34m\u001b[0m\u001b[0;34m\u001b[0m\u001b[0m\n",
            "\u001b[0;32m/usr/local/lib/python3.11/dist-packages/ipykernel/kernelbase.py\u001b[0m in \u001b[0;36m_input_request\u001b[0;34m(self, prompt, ident, parent, password)\u001b[0m\n\u001b[1;32m    893\u001b[0m             \u001b[0;32mexcept\u001b[0m \u001b[0mKeyboardInterrupt\u001b[0m\u001b[0;34m:\u001b[0m\u001b[0;34m\u001b[0m\u001b[0;34m\u001b[0m\u001b[0m\n\u001b[1;32m    894\u001b[0m                 \u001b[0;31m# re-raise KeyboardInterrupt, to truncate traceback\u001b[0m\u001b[0;34m\u001b[0m\u001b[0;34m\u001b[0m\u001b[0m\n\u001b[0;32m--> 895\u001b[0;31m                 \u001b[0;32mraise\u001b[0m \u001b[0mKeyboardInterrupt\u001b[0m\u001b[0;34m(\u001b[0m\u001b[0;34m\"Interrupted by user\"\u001b[0m\u001b[0;34m)\u001b[0m \u001b[0;32mfrom\u001b[0m \u001b[0;32mNone\u001b[0m\u001b[0;34m\u001b[0m\u001b[0;34m\u001b[0m\u001b[0m\n\u001b[0m\u001b[1;32m    896\u001b[0m             \u001b[0;32mexcept\u001b[0m \u001b[0mException\u001b[0m \u001b[0;32mas\u001b[0m \u001b[0me\u001b[0m\u001b[0;34m:\u001b[0m\u001b[0;34m\u001b[0m\u001b[0;34m\u001b[0m\u001b[0m\n\u001b[1;32m    897\u001b[0m                 \u001b[0mself\u001b[0m\u001b[0;34m.\u001b[0m\u001b[0mlog\u001b[0m\u001b[0;34m.\u001b[0m\u001b[0mwarning\u001b[0m\u001b[0;34m(\u001b[0m\u001b[0;34m\"Invalid Message:\"\u001b[0m\u001b[0;34m,\u001b[0m \u001b[0mexc_info\u001b[0m\u001b[0;34m=\u001b[0m\u001b[0;32mTrue\u001b[0m\u001b[0;34m)\u001b[0m\u001b[0;34m\u001b[0m\u001b[0;34m\u001b[0m\u001b[0m\n",
            "\u001b[0;31mKeyboardInterrupt\u001b[0m: Interrupted by user"
          ]
        }
      ],
      "source": [
        "# Kalkulator sederhana\n",
        "def tambah(a, b):\n",
        "    return a + b\n",
        "\n",
        "def kurang(a, b):\n",
        "    return a - b\n",
        "\n",
        "def kali(a, b):\n",
        "    return a * b\n",
        "\n",
        "def bagi(a, b):\n",
        "    return a / b\n",
        "\n",
        "print(\"Pilih operasi:\")\n",
        "print(\"1. Tambah\")\n",
        "print(\"2. Kurang\")\n",
        "print(\"3. Kali\")\n",
        "print(\"4. Bagi\")\n",
        "\n",
        "pilihan = input(\"Masukkan pilihan (1/2/3/4): \")\n",
        "\n",
        "num1 = float(input(\"Masukkan angka pertama: \"))\n",
        "num2 = float(input(\"Masukkan angka kedua: \"))\n",
        "\n",
        "if pilihan == '1':\n",
        "    print(\"Hasil:\", tambah(num1, num2))\n",
        "elif pilihan == '2':\n",
        "    print(\"Hasil:\", kurang(num1, num2))\n",
        "elif pilihan == '3':\n",
        "    print(\"Hasil:\", kali(num1, num2))\n",
        "elif pilihan == '4':\n",
        "    print(\"Hasil:\", bagi(num1, num2))\n",
        "else:\n",
        "    print(\"Input tidak valid\")"
      ]
    },
    {
      "cell_type": "code",
      "source": [
        "nama = input(\"Masukkan nama Anda: \")\n",
        "usia = input(\"Masukkan usia Anda: \")\n",
        "print(f\"Halo, {nama}! Hmm, usia {usia} tahun ya. \")\n",
        "favorit = input(\"Apa warna favoritmu? \")\n",
        "print(f\"{favorit}? Itu warna yang keren. Senang berkenalan, {nama}!\")\n"
      ],
      "metadata": {
        "colab": {
          "base_uri": "https://localhost:8080/"
        },
        "id": "HGaUNce3q-ZA",
        "outputId": "dec0ff61-7b46-466b-ee4c-a5b92444e5bc"
      },
      "execution_count": 9,
      "outputs": [
        {
          "output_type": "stream",
          "name": "stdout",
          "text": [
            "Masukkan nama Anda: azmy\n",
            "Masukkan usia Anda: 25\n",
            "Halo, azmy! Hmm, usia 25 tahun ya. \n",
            "Apa warna favoritmu? hitam\n",
            "hitam? Itu warna yang keren. Senang berkenalan, azmy!\n"
          ]
        }
      ]
    },
    {
      "cell_type": "code",
      "source": [
        "# To-Do List Sederhana\n",
        "\n",
        "# Inisialisasi list kosong untuk menyimpan tugas\n",
        "to_do_list = []\n",
        "\n",
        "# Fungsi untuk menampilkan menu\n",
        "def tampilkan_menu():\n",
        "    print(\"\\n=== APLIKASI TO-DO LIST ===\")\n",
        "    print(\"1. Tambah Tugas\")\n",
        "    print(\"2. Lihat Tugas\")\n",
        "    print(\"3. Tandai Tugas Selesai\")\n",
        "    print(\"4. Hapus Tugas\")\n",
        "    print(\"5. Keluar\")\n",
        "\n",
        "# Fungsi untuk menambahkan tugas\n",
        "def tambah_tugas():\n",
        "    tugas = input(\"Masukkan tugas baru: \")\n",
        "    to_do_list.append({\"tugas\": tugas, \"selesai\": False})\n",
        "    print(f\"Tugas '{tugas}' berhasil ditambahkan!\")\n",
        "\n",
        "# Fungsi untuk melihat daftar tugas\n",
        "def lihat_tugas():\n",
        "    if not to_do_list:\n",
        "        print(\"Tidak ada tugas dalam daftar.\")\n",
        "        return\n",
        "\n",
        "    print(\"\\n=== DAFTAR TUGAS ===\")\n",
        "    for idx, item in enumerate(to_do_list, start=1):\n",
        "        status = \"[Selesai]\" if item[\"selesai\"] else \"[Belum Selesai]\"\n",
        "        print(f\"{idx}. {item['tugas']} {status}\")\n",
        "\n",
        "# Fungsi untuk menandai tugas sebagai selesai\n",
        "def tandai_selesai():\n",
        "    lihat_tugas()\n",
        "    try:\n",
        "        nomor = int(input(\"Masukkan nomor tugas yang ingin ditandai selesai: \"))\n",
        "        if 1 <= nomor <= len(to_do_list):\n",
        "            to_do_list[nomor - 1][\"selesai\"] = True\n",
        "            print(f\"Tugas '{to_do_list[nomor - 1]['tugas']}' telah ditandai selesai!\")\n",
        "        else:\n",
        "            print(\"Nomor tugas tidak valid.\")\n",
        "    except ValueError:\n",
        "        print(\"Masukkan nomor yang valid.\")\n",
        "\n",
        "# Fungsi untuk menghapus tugas\n",
        "def hapus_tugas():\n",
        "    lihat_tugas()\n",
        "    try:\n",
        "        nomor = int(input(\"Masukkan nomor tugas yang ingin dihapus: \"))\n",
        "        if 1 <= nomor <= len(to_do_list):\n",
        "            tugas_dihapus = to_do_list.pop(nomor - 1)\n",
        "            print(f\"Tugas '{tugas_dihapus['tugas']}' telah dihapus!\")\n",
        "        else:\n",
        "            print(\"Nomor tugas tidak valid.\")\n",
        "    except ValueError:\n",
        "        print(\"Masukkan nomor yang valid.\")\n",
        "\n",
        "# Main program\n",
        "while True:\n",
        "    tampilkan_menu()\n",
        "    pilihan = input(\"Pilih menu (1/2/3/4/5): \")\n",
        "\n",
        "    if pilihan == \"1\":\n",
        "        tambah_tugas()\n",
        "    elif pilihan == \"2\":\n",
        "        lihat_tugas()\n",
        "    elif pilihan == \"3\":\n",
        "        tandai_selesai()\n",
        "    elif pilihan == \"4\":\n",
        "        hapus_tugas()\n",
        "    elif pilihan == \"5\":\n",
        "        print(\"Terima kasih telah menggunakan aplikasi To-Do List!\")\n",
        "        break\n",
        "    else:\n",
        "        print(\"Pilihan tidak valid. Silakan coba lagi.\")"
      ],
      "metadata": {
        "colab": {
          "base_uri": "https://localhost:8080/",
          "height": 825
        },
        "id": "R7wuOdWrw0hK",
        "outputId": "2b065cbb-75e8-4043-b6ed-124375c89963"
      },
      "execution_count": 10,
      "outputs": [
        {
          "output_type": "stream",
          "name": "stdout",
          "text": [
            "\n",
            "=== APLIKASI TO-DO LIST ===\n",
            "1. Tambah Tugas\n",
            "2. Lihat Tugas\n",
            "3. Tandai Tugas Selesai\n",
            "4. Hapus Tugas\n",
            "5. Keluar\n",
            "Pilih menu (1/2/3/4/5): 2\n",
            "Tidak ada tugas dalam daftar.\n",
            "\n",
            "=== APLIKASI TO-DO LIST ===\n",
            "1. Tambah Tugas\n",
            "2. Lihat Tugas\n",
            "3. Tandai Tugas Selesai\n",
            "4. Hapus Tugas\n",
            "5. Keluar\n",
            "Pilih menu (1/2/3/4/5): 3\n",
            "Tidak ada tugas dalam daftar.\n",
            "Masukkan nomor tugas yang ingin ditandai selesai: 3\n",
            "Nomor tugas tidak valid.\n",
            "\n",
            "=== APLIKASI TO-DO LIST ===\n",
            "1. Tambah Tugas\n",
            "2. Lihat Tugas\n",
            "3. Tandai Tugas Selesai\n",
            "4. Hapus Tugas\n",
            "5. Keluar\n"
          ]
        },
        {
          "output_type": "error",
          "ename": "KeyboardInterrupt",
          "evalue": "Interrupted by user",
          "traceback": [
            "\u001b[0;31m---------------------------------------------------------------------------\u001b[0m",
            "\u001b[0;31mKeyboardInterrupt\u001b[0m                         Traceback (most recent call last)",
            "\u001b[0;32m<ipython-input-10-944579a97025>\u001b[0m in \u001b[0;36m<cell line: 0>\u001b[0;34m()\u001b[0m\n\u001b[1;32m     59\u001b[0m \u001b[0;32mwhile\u001b[0m \u001b[0;32mTrue\u001b[0m\u001b[0;34m:\u001b[0m\u001b[0;34m\u001b[0m\u001b[0;34m\u001b[0m\u001b[0m\n\u001b[1;32m     60\u001b[0m     \u001b[0mtampilkan_menu\u001b[0m\u001b[0;34m(\u001b[0m\u001b[0;34m)\u001b[0m\u001b[0;34m\u001b[0m\u001b[0;34m\u001b[0m\u001b[0m\n\u001b[0;32m---> 61\u001b[0;31m     \u001b[0mpilihan\u001b[0m \u001b[0;34m=\u001b[0m \u001b[0minput\u001b[0m\u001b[0;34m(\u001b[0m\u001b[0;34m\"Pilih menu (1/2/3/4/5): \"\u001b[0m\u001b[0;34m)\u001b[0m\u001b[0;34m\u001b[0m\u001b[0;34m\u001b[0m\u001b[0m\n\u001b[0m\u001b[1;32m     62\u001b[0m \u001b[0;34m\u001b[0m\u001b[0m\n\u001b[1;32m     63\u001b[0m     \u001b[0;32mif\u001b[0m \u001b[0mpilihan\u001b[0m \u001b[0;34m==\u001b[0m \u001b[0;34m\"1\"\u001b[0m\u001b[0;34m:\u001b[0m\u001b[0;34m\u001b[0m\u001b[0;34m\u001b[0m\u001b[0m\n",
            "\u001b[0;32m/usr/local/lib/python3.11/dist-packages/ipykernel/kernelbase.py\u001b[0m in \u001b[0;36mraw_input\u001b[0;34m(self, prompt)\u001b[0m\n\u001b[1;32m    849\u001b[0m                 \u001b[0;34m\"raw_input was called, but this frontend does not support input requests.\"\u001b[0m\u001b[0;34m\u001b[0m\u001b[0;34m\u001b[0m\u001b[0m\n\u001b[1;32m    850\u001b[0m             )\n\u001b[0;32m--> 851\u001b[0;31m         return self._input_request(str(prompt),\n\u001b[0m\u001b[1;32m    852\u001b[0m             \u001b[0mself\u001b[0m\u001b[0;34m.\u001b[0m\u001b[0m_parent_ident\u001b[0m\u001b[0;34m,\u001b[0m\u001b[0;34m\u001b[0m\u001b[0;34m\u001b[0m\u001b[0m\n\u001b[1;32m    853\u001b[0m             \u001b[0mself\u001b[0m\u001b[0;34m.\u001b[0m\u001b[0m_parent_header\u001b[0m\u001b[0;34m,\u001b[0m\u001b[0;34m\u001b[0m\u001b[0;34m\u001b[0m\u001b[0m\n",
            "\u001b[0;32m/usr/local/lib/python3.11/dist-packages/ipykernel/kernelbase.py\u001b[0m in \u001b[0;36m_input_request\u001b[0;34m(self, prompt, ident, parent, password)\u001b[0m\n\u001b[1;32m    893\u001b[0m             \u001b[0;32mexcept\u001b[0m \u001b[0mKeyboardInterrupt\u001b[0m\u001b[0;34m:\u001b[0m\u001b[0;34m\u001b[0m\u001b[0;34m\u001b[0m\u001b[0m\n\u001b[1;32m    894\u001b[0m                 \u001b[0;31m# re-raise KeyboardInterrupt, to truncate traceback\u001b[0m\u001b[0;34m\u001b[0m\u001b[0;34m\u001b[0m\u001b[0m\n\u001b[0;32m--> 895\u001b[0;31m                 \u001b[0;32mraise\u001b[0m \u001b[0mKeyboardInterrupt\u001b[0m\u001b[0;34m(\u001b[0m\u001b[0;34m\"Interrupted by user\"\u001b[0m\u001b[0;34m)\u001b[0m \u001b[0;32mfrom\u001b[0m \u001b[0;32mNone\u001b[0m\u001b[0;34m\u001b[0m\u001b[0;34m\u001b[0m\u001b[0m\n\u001b[0m\u001b[1;32m    896\u001b[0m             \u001b[0;32mexcept\u001b[0m \u001b[0mException\u001b[0m \u001b[0;32mas\u001b[0m \u001b[0me\u001b[0m\u001b[0;34m:\u001b[0m\u001b[0;34m\u001b[0m\u001b[0;34m\u001b[0m\u001b[0m\n\u001b[1;32m    897\u001b[0m                 \u001b[0mself\u001b[0m\u001b[0;34m.\u001b[0m\u001b[0mlog\u001b[0m\u001b[0;34m.\u001b[0m\u001b[0mwarning\u001b[0m\u001b[0;34m(\u001b[0m\u001b[0;34m\"Invalid Message:\"\u001b[0m\u001b[0;34m,\u001b[0m \u001b[0mexc_info\u001b[0m\u001b[0;34m=\u001b[0m\u001b[0;32mTrue\u001b[0m\u001b[0;34m)\u001b[0m\u001b[0;34m\u001b[0m\u001b[0;34m\u001b[0m\u001b[0m\n",
            "\u001b[0;31mKeyboardInterrupt\u001b[0m: Interrupted by user"
          ]
        }
      ]
    },
    {
      "cell_type": "code",
      "source": [
        "nama = input(\"masukkan nama anda: \")\n",
        "usia = input(\"berapa usia kamu?: \")\n",
        "print(f\"\\nhalo, {nama}! usiamu {usia} tahun, ya?\")\n",
        "\n",
        "hobby = input(\"\\nApa komik favoritmu?: \")\n",
        "print(f\"\\nKomik {hobby}? Keren banget, {nama}! Terima kasih sudah berbagi!\")"
      ],
      "metadata": {
        "colab": {
          "base_uri": "https://localhost:8080/"
        },
        "id": "CAIwSvTg9J9b",
        "outputId": "8298ae47-5ea1-45f6-fb08-22cdc6a97158"
      },
      "execution_count": 19,
      "outputs": [
        {
          "output_type": "stream",
          "name": "stdout",
          "text": [
            "masukkan nama anda: azmy\n",
            "berapa usia kamu?: 25\n",
            "\n",
            "halo, azmy! usiamu 25 tahun, ya?\n",
            "\n",
            "Apa komik favoritmu?: naruto\n",
            "\n",
            "Komik naruto? Keren banget, azmy! Terima kasih sudah berbagi!\n"
          ]
        }
      ]
    }
  ],
  "metadata": {
    "colab": {
      "provenance": [],
      "authorship_tag": "ABX9TyM6RFifMS3A2ssXA2GV0CJy",
      "include_colab_link": true
    },
    "kernelspec": {
      "display_name": "Python 3",
      "name": "python3"
    },
    "language_info": {
      "name": "python"
    }
  },
  "nbformat": 4,
  "nbformat_minor": 0
}