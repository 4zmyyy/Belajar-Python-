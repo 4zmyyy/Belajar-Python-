{
  "cells": [
    {
      "cell_type": "markdown",
      "metadata": {
        "id": "view-in-github",
        "colab_type": "text"
      },
      "source": [
        "<a href=\"https://colab.research.google.com/github/4zmyyy/Belajarpyhton/blob/main/Belajar_Phyton_140225.ipynb\" target=\"_parent\"><img src=\"https://colab.research.google.com/assets/colab-badge.svg\" alt=\"Open In Colab\"/></a>"
      ]
    },
    {
      "cell_type": "code",
      "execution_count": null,
      "metadata": {
        "colab": {
          "base_uri": "https://localhost:8080/"
        },
        "id": "9KoW4czyQOJE",
        "outputId": "216bcb2b-f6bf-4aeb-8837-b3023c5e3a19"
      },
      "outputs": [
        {
          "name": "stdout",
          "output_type": "stream",
          "text": [
            "Hello, world\n"
          ]
        }
      ],
      "source": [
        "print (\"Hello, world\")"
      ]
    },
    {
      "cell_type": "code",
      "execution_count": 2,
      "metadata": {
        "colab": {
          "base_uri": "https://localhost:8080/",
          "height": 356
        },
        "id": "9ZpM84KCT0z9",
        "outputId": "4dd74d35-0dc9-46fc-c843-d1fb4ee753e8"
      },
      "outputs": [
        {
          "output_type": "error",
          "ename": "KeyboardInterrupt",
          "evalue": "Interrupted by user",
          "traceback": [
            "\u001b[0;31m---------------------------------------------------------------------------\u001b[0m",
            "\u001b[0;31mKeyboardInterrupt\u001b[0m                         Traceback (most recent call last)",
            "\u001b[0;32m<ipython-input-2-1dee05813d04>\u001b[0m in \u001b[0;36m<cell line: 0>\u001b[0;34m()\u001b[0m\n\u001b[1;32m     18\u001b[0m \u001b[0mprint\u001b[0m\u001b[0;34m(\u001b[0m\u001b[0;34m\"4. Bagi\"\u001b[0m\u001b[0;34m)\u001b[0m\u001b[0;34m\u001b[0m\u001b[0;34m\u001b[0m\u001b[0m\n\u001b[1;32m     19\u001b[0m \u001b[0;34m\u001b[0m\u001b[0m\n\u001b[0;32m---> 20\u001b[0;31m \u001b[0mpilihan\u001b[0m \u001b[0;34m=\u001b[0m \u001b[0minput\u001b[0m\u001b[0;34m(\u001b[0m\u001b[0;34m\"Masukkan pilihan (1/2/3/4): \"\u001b[0m\u001b[0;34m)\u001b[0m\u001b[0;34m\u001b[0m\u001b[0;34m\u001b[0m\u001b[0m\n\u001b[0m\u001b[1;32m     21\u001b[0m \u001b[0;34m\u001b[0m\u001b[0m\n\u001b[1;32m     22\u001b[0m \u001b[0mnum1\u001b[0m \u001b[0;34m=\u001b[0m \u001b[0mfloat\u001b[0m\u001b[0;34m(\u001b[0m\u001b[0minput\u001b[0m\u001b[0;34m(\u001b[0m\u001b[0;34m\"Masukkan angka pertama: \"\u001b[0m\u001b[0;34m)\u001b[0m\u001b[0;34m)\u001b[0m\u001b[0;34m\u001b[0m\u001b[0;34m\u001b[0m\u001b[0m\n",
            "\u001b[0;32m/usr/local/lib/python3.11/dist-packages/ipykernel/kernelbase.py\u001b[0m in \u001b[0;36mraw_input\u001b[0;34m(self, prompt)\u001b[0m\n\u001b[1;32m    849\u001b[0m                 \u001b[0;34m\"raw_input was called, but this frontend does not support input requests.\"\u001b[0m\u001b[0;34m\u001b[0m\u001b[0;34m\u001b[0m\u001b[0m\n\u001b[1;32m    850\u001b[0m             )\n\u001b[0;32m--> 851\u001b[0;31m         return self._input_request(str(prompt),\n\u001b[0m\u001b[1;32m    852\u001b[0m             \u001b[0mself\u001b[0m\u001b[0;34m.\u001b[0m\u001b[0m_parent_ident\u001b[0m\u001b[0;34m,\u001b[0m\u001b[0;34m\u001b[0m\u001b[0;34m\u001b[0m\u001b[0m\n\u001b[1;32m    853\u001b[0m             \u001b[0mself\u001b[0m\u001b[0;34m.\u001b[0m\u001b[0m_parent_header\u001b[0m\u001b[0;34m,\u001b[0m\u001b[0;34m\u001b[0m\u001b[0;34m\u001b[0m\u001b[0m\n",
            "\u001b[0;32m/usr/local/lib/python3.11/dist-packages/ipykernel/kernelbase.py\u001b[0m in \u001b[0;36m_input_request\u001b[0;34m(self, prompt, ident, parent, password)\u001b[0m\n\u001b[1;32m    893\u001b[0m             \u001b[0;32mexcept\u001b[0m \u001b[0mKeyboardInterrupt\u001b[0m\u001b[0;34m:\u001b[0m\u001b[0;34m\u001b[0m\u001b[0;34m\u001b[0m\u001b[0m\n\u001b[1;32m    894\u001b[0m                 \u001b[0;31m# re-raise KeyboardInterrupt, to truncate traceback\u001b[0m\u001b[0;34m\u001b[0m\u001b[0;34m\u001b[0m\u001b[0m\n\u001b[0;32m--> 895\u001b[0;31m                 \u001b[0;32mraise\u001b[0m \u001b[0mKeyboardInterrupt\u001b[0m\u001b[0;34m(\u001b[0m\u001b[0;34m\"Interrupted by user\"\u001b[0m\u001b[0;34m)\u001b[0m \u001b[0;32mfrom\u001b[0m \u001b[0;32mNone\u001b[0m\u001b[0;34m\u001b[0m\u001b[0;34m\u001b[0m\u001b[0m\n\u001b[0m\u001b[1;32m    896\u001b[0m             \u001b[0;32mexcept\u001b[0m \u001b[0mException\u001b[0m \u001b[0;32mas\u001b[0m \u001b[0me\u001b[0m\u001b[0;34m:\u001b[0m\u001b[0;34m\u001b[0m\u001b[0;34m\u001b[0m\u001b[0m\n\u001b[1;32m    897\u001b[0m                 \u001b[0mself\u001b[0m\u001b[0;34m.\u001b[0m\u001b[0mlog\u001b[0m\u001b[0;34m.\u001b[0m\u001b[0mwarning\u001b[0m\u001b[0;34m(\u001b[0m\u001b[0;34m\"Invalid Message:\"\u001b[0m\u001b[0;34m,\u001b[0m \u001b[0mexc_info\u001b[0m\u001b[0;34m=\u001b[0m\u001b[0;32mTrue\u001b[0m\u001b[0;34m)\u001b[0m\u001b[0;34m\u001b[0m\u001b[0;34m\u001b[0m\u001b[0m\n",
            "\u001b[0;31mKeyboardInterrupt\u001b[0m: Interrupted by user"
          ]
        }
      ],
      "source": [
        "# Kalkulator sederhana\n",
        "def tambah(a, b):\n",
        "    return a + b\n",
        "\n",
        "def kurang(a, b):\n",
        "    return a - b\n",
        "\n",
        "def kali(a, b):\n",
        "    return a * b\n",
        "\n",
        "def bagi(a, b):\n",
        "    return a / b\n",
        "\n",
        "print(\"Pilih operasi:\")\n",
        "print(\"1. Tambah\")\n",
        "print(\"2. Kurang\")\n",
        "print(\"3. Kali\")\n",
        "print(\"4. Bagi\")\n",
        "\n",
        "pilihan = input(\"Masukkan pilihan (1/2/3/4): \")\n",
        "\n",
        "num1 = float(input(\"Masukkan angka pertama: \"))\n",
        "num2 = float(input(\"Masukkan angka kedua: \"))\n",
        "\n",
        "if pilihan == '1':\n",
        "    print(\"Hasil:\", tambah(num1, num2))\n",
        "elif pilihan == '2':\n",
        "    print(\"Hasil:\", kurang(num1, num2))\n",
        "elif pilihan == '3':\n",
        "    print(\"Hasil:\", kali(num1, num2))\n",
        "elif pilihan == '4':\n",
        "    print(\"Hasil:\", bagi(num1, num2))\n",
        "else:\n",
        "    print(\"Input tidak valid\")"
      ]
    },
    {
      "cell_type": "code",
      "source": [
        "nama = input(\"Masukkan nama Anda: \")\n",
        "usia = input(\"Masukkan usia Anda: \")\n",
        "print(f\"Halo, {nama}! Hmm, usia {usia} tahun ya. \")\n",
        "favorit = input(\"Apa warna favoritmu? \")\n",
        "print(f\"{favorit}? Itu warna yang keren. Senang berkenalan, {nama}!\")\n"
      ],
      "metadata": {
        "colab": {
          "base_uri": "https://localhost:8080/"
        },
        "id": "HGaUNce3q-ZA",
        "outputId": "dec0ff61-7b46-466b-ee4c-a5b92444e5bc"
      },
      "execution_count": 9,
      "outputs": [
        {
          "output_type": "stream",
          "name": "stdout",
          "text": [
            "Masukkan nama Anda: azmy\n",
            "Masukkan usia Anda: 25\n",
            "Halo, azmy! Hmm, usia 25 tahun ya. \n",
            "Apa warna favoritmu? hitam\n",
            "hitam? Itu warna yang keren. Senang berkenalan, azmy!\n"
          ]
        }
      ]
    },
    {
      "cell_type": "code",
      "source": [
        "nama = input(\"masukkan nama anda: \")\n",
        "usia = input(\"berapa usia kamu?: \")\n",
        "print(f\"\\nhalo, {nama}! usiamu {usia} tahun, ya?\")\n",
        "\n",
        "hobby = input(\"\\nApa komik favoritmu?: \")\n",
        "print(f\"\\nKomik {hobby}? Keren banget, {nama}! Terima kasih sudah berbagi!\")"
      ],
      "metadata": {
        "colab": {
          "base_uri": "https://localhost:8080/"
        },
        "id": "CAIwSvTg9J9b",
        "outputId": "8298ae47-5ea1-45f6-fb08-22cdc6a97158"
      },
      "execution_count": 19,
      "outputs": [
        {
          "output_type": "stream",
          "name": "stdout",
          "text": [
            "masukkan nama anda: azmy\n",
            "berapa usia kamu?: 25\n",
            "\n",
            "halo, azmy! usiamu 25 tahun, ya?\n",
            "\n",
            "Apa komik favoritmu?: naruto\n",
            "\n",
            "Komik naruto? Keren banget, azmy! Terima kasih sudah berbagi!\n"
          ]
        }
      ]
    },
    {
      "cell_type": "code",
      "source": [
        "# Daftar Belanja\n",
        "daftar_belanja = []\n",
        "\n",
        "while True:\n",
        "    item = input(\"Masukkan item belanja (ketik 'selesai' untuk keluar): \")\n",
        "    if item.lower() == \"selesai\":\n",
        "        break\n",
        "    daftar_belanja.append(item)\n",
        "\n",
        "print(\"\\n=== DAFTAR BELANJA ===\")\n",
        "for idx, barang in enumerate(daftar_belanja, start=1):\n",
        "    print(f\"{idx}. {barang}\")"
      ],
      "metadata": {
        "colab": {
          "base_uri": "https://localhost:8080/"
        },
        "id": "mdAZy704-O6T",
        "outputId": "a64966de-7e60-44d2-f839-350bf006d8bc"
      },
      "execution_count": 20,
      "outputs": [
        {
          "output_type": "stream",
          "name": "stdout",
          "text": [
            "Masukkan item belanja (ketik 'selesai' untuk keluar): beras\n",
            "Masukkan item belanja (ketik 'selesai' untuk keluar): selesai\n",
            "\n",
            "=== DAFTAR BELANJA ===\n",
            "1. beras\n"
          ]
        }
      ]
    }
  ],
  "metadata": {
    "colab": {
      "provenance": [],
      "authorship_tag": "ABX9TyPEu1KAVrEnEUz/iXHKAP8g",
      "include_colab_link": true
    },
    "kernelspec": {
      "display_name": "Python 3",
      "name": "python3"
    },
    "language_info": {
      "name": "python"
    }
  },
  "nbformat": 4,
  "nbformat_minor": 0
}