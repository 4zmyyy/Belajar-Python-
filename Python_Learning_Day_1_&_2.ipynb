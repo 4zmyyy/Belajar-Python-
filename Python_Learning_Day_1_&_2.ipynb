{
  "cells": [
    {
      "cell_type": "markdown",
      "metadata": {
        "id": "view-in-github",
        "colab_type": "text"
      },
      "source": [
        "<a href=\"https://colab.research.google.com/github/4zmyyy/Belajarpyhton/blob/main/Python_Learning_Day_1_%26_2.ipynb\" target=\"_parent\"><img src=\"https://colab.research.google.com/assets/colab-badge.svg\" alt=\"Open In Colab\"/></a>"
      ]
    },
    {
      "cell_type": "code",
      "execution_count": null,
      "metadata": {
        "colab": {
          "base_uri": "https://localhost:8080/"
        },
        "id": "9KoW4czyQOJE",
        "outputId": "216bcb2b-f6bf-4aeb-8837-b3023c5e3a19"
      },
      "outputs": [
        {
          "name": "stdout",
          "output_type": "stream",
          "text": [
            "Hello, world\n"
          ]
        }
      ],
      "source": [
        "print (\"Hello, world\")"
      ]
    },
    {
      "cell_type": "code",
      "execution_count": null,
      "metadata": {
        "colab": {
          "base_uri": "https://localhost:8080/"
        },
        "id": "9ZpM84KCT0z9",
        "outputId": "1a9eb22f-8a19-441c-eddd-35a53a5cf344"
      },
      "outputs": [
        {
          "output_type": "stream",
          "name": "stdout",
          "text": [
            "=== KALKULATOR ===\n",
            "Masukkan angka pertama: 1\n",
            "Masukkan angka kedua: 2\n",
            "Pilih operasi:\n",
            "1. Penjumlahan\n",
            "2. Pengurangan\n",
            "3. Perkalian\n",
            "4. Pembagian\n",
            "Masukkan pilihan (1/2/3/4): 3\n",
            "Hasil: 2.0\n"
          ]
        }
      ],
      "source": [
        "# Kalkulator Sederhana\n",
        "print(\"=== KALKULATOR ===\")\n",
        "angka1 = float(input(\"Masukkan angka pertama: \"))\n",
        "angka2 = float(input(\"Masukkan angka kedua: \"))\n",
        "\n",
        "print(\"Pilih operasi:\")\n",
        "print(\"1. Penjumlahan\")\n",
        "print(\"2. Pengurangan\")\n",
        "print(\"3. Perkalian\")\n",
        "print(\"4. Pembagian\")\n",
        "\n",
        "pilihan = input(\"Masukkan pilihan (1/2/3/4): \")\n",
        "\n",
        "if pilihan == \"1\":\n",
        "    print(f\"Hasil: {angka1 + angka2}\")\n",
        "elif pilihan == \"2\":\n",
        "    print(f\"Hasil: {angka1 - angka2}\")\n",
        "elif pilihan == \"3\":\n",
        "    print(f\"Hasil: {angka1 * angka2}\")\n",
        "elif pilihan == \"4\":\n",
        "    if angka2 != 0:\n",
        "        print(f\"Hasil: {angka1 / angka2}\")\n",
        "    else:\n",
        "        print(\"Tidak bisa dibagi dengan nol!\")\n",
        "else:\n",
        "    print(\"Pilihan tidak valid.\")"
      ]
    },
    {
      "cell_type": "code",
      "source": [
        "nama = input(\"Masukkan nama Anda: \")\n",
        "usia = input(\"Masukkan usia Anda: \")\n",
        "print(f\"Halo, {nama}! Hmm, usia {usia} tahun ya. \")\n",
        "favorit = input(\"Apa warna favoritmu? \")\n",
        "print(f\"{favorit}? Itu warna yang keren. Senang berkenalan, {nama}!\")\n"
      ],
      "metadata": {
        "colab": {
          "base_uri": "https://localhost:8080/"
        },
        "id": "HGaUNce3q-ZA",
        "outputId": "dec0ff61-7b46-466b-ee4c-a5b92444e5bc"
      },
      "execution_count": null,
      "outputs": [
        {
          "output_type": "stream",
          "name": "stdout",
          "text": [
            "Masukkan nama Anda: azmy\n",
            "Masukkan usia Anda: 25\n",
            "Halo, azmy! Hmm, usia 25 tahun ya. \n",
            "Apa warna favoritmu? hitam\n",
            "hitam? Itu warna yang keren. Senang berkenalan, azmy!\n"
          ]
        }
      ]
    },
    {
      "cell_type": "markdown",
      "source": [],
      "metadata": {
        "id": "3FPIYOyfRQ6e"
      }
    },
    {
      "cell_type": "code",
      "source": [
        "nama = input(\"masukkan nama anda: \")\n",
        "usia = input(\"berapa usia kamu?: \")\n",
        "print(f\"\\nhalo, {nama}! usiamu {usia} tahun, ya?\")\n",
        "\n",
        "hobby = input(\"\\nApa komik favoritmu?: \")\n",
        "print(f\"\\nKomik {hobby}? Keren banget, {nama}! Terima kasih sudah berbagi!\")"
      ],
      "metadata": {
        "colab": {
          "base_uri": "https://localhost:8080/"
        },
        "id": "CAIwSvTg9J9b",
        "outputId": "8298ae47-5ea1-45f6-fb08-22cdc6a97158"
      },
      "execution_count": null,
      "outputs": [
        {
          "output_type": "stream",
          "name": "stdout",
          "text": [
            "masukkan nama anda: azmy\n",
            "berapa usia kamu?: 25\n",
            "\n",
            "halo, azmy! usiamu 25 tahun, ya?\n",
            "\n",
            "Apa komik favoritmu?: naruto\n",
            "\n",
            "Komik naruto? Keren banget, azmy! Terima kasih sudah berbagi!\n"
          ]
        }
      ]
    },
    {
      "cell_type": "code",
      "source": [
        "# Daftar Belanja\n",
        "daftar_belanja = []\n",
        "\n",
        "while True:\n",
        "    item = input(\"Masukkan item belanja (ketik 'selesai' untuk keluar): \")\n",
        "    if item.lower() == \"selesai\":\n",
        "        break\n",
        "    daftar_belanja.append(item)\n",
        "\n",
        "print(\"\\n=== DAFTAR BELANJA ===\")\n",
        "for idx, barang in enumerate(daftar_belanja, start=1):\n",
        "    print(f\"{idx}. {barang}\")"
      ],
      "metadata": {
        "colab": {
          "base_uri": "https://localhost:8080/"
        },
        "id": "mdAZy704-O6T",
        "outputId": "a64966de-7e60-44d2-f839-350bf006d8bc"
      },
      "execution_count": null,
      "outputs": [
        {
          "output_type": "stream",
          "name": "stdout",
          "text": [
            "Masukkan item belanja (ketik 'selesai' untuk keluar): beras\n",
            "Masukkan item belanja (ketik 'selesai' untuk keluar): selesai\n",
            "\n",
            "=== DAFTAR BELANJA ===\n",
            "1. beras\n"
          ]
        }
      ]
    },
    {
      "cell_type": "code",
      "source": [
        "!pip install numpy pandas"
      ],
      "metadata": {
        "colab": {
          "base_uri": "https://localhost:8080/"
        },
        "id": "VV1eUQ3e6fNG",
        "outputId": "59069469-4362-494a-f78a-ccd507d071c2"
      },
      "execution_count": null,
      "outputs": [
        {
          "output_type": "stream",
          "name": "stdout",
          "text": [
            "Requirement already satisfied: numpy in /usr/local/lib/python3.11/dist-packages (1.26.4)\n",
            "Requirement already satisfied: pandas in /usr/local/lib/python3.11/dist-packages (2.2.2)\n",
            "Requirement already satisfied: python-dateutil>=2.8.2 in /usr/local/lib/python3.11/dist-packages (from pandas) (2.8.2)\n",
            "Requirement already satisfied: pytz>=2020.1 in /usr/local/lib/python3.11/dist-packages (from pandas) (2025.1)\n",
            "Requirement already satisfied: tzdata>=2022.7 in /usr/local/lib/python3.11/dist-packages (from pandas) (2025.1)\n",
            "Requirement already satisfied: six>=1.5 in /usr/local/lib/python3.11/dist-packages (from python-dateutil>=2.8.2->pandas) (1.17.0)\n"
          ]
        }
      ]
    },
    {
      "cell_type": "code",
      "source": [
        "import numpy as np\n",
        "import pandas as pd"
      ],
      "metadata": {
        "id": "_Zs5SL5u6sVW"
      },
      "execution_count": null,
      "outputs": []
    }
  ],
  "metadata": {
    "colab": {
      "provenance": [],
      "toc_visible": true,
      "authorship_tag": "ABX9TyNmQTQAPAYB755QftIkiWZs",
      "include_colab_link": true
    },
    "kernelspec": {
      "display_name": "Python 3",
      "name": "python3"
    },
    "language_info": {
      "name": "python"
    }
  },
  "nbformat": 4,
  "nbformat_minor": 0
}