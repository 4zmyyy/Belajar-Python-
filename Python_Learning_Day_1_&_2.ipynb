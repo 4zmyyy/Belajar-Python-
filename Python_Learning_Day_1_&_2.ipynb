{
  "cells": [
    {
      "cell_type": "markdown",
      "metadata": {
        "id": "view-in-github",
        "colab_type": "text"
      },
      "source": [
        "<a href=\"https://colab.research.google.com/github/4zmyyy/Belajarpyhton/blob/main/Python_Learning_Day_1_%26_2.ipynb\" target=\"_parent\"><img src=\"https://colab.research.google.com/assets/colab-badge.svg\" alt=\"Open In Colab\"/></a>"
      ]
    },
    {
      "cell_type": "code",
      "execution_count": null,
      "metadata": {
        "colab": {
          "base_uri": "https://localhost:8080/"
        },
        "id": "9KoW4czyQOJE",
        "outputId": "216bcb2b-f6bf-4aeb-8837-b3023c5e3a19"
      },
      "outputs": [
        {
          "name": "stdout",
          "output_type": "stream",
          "text": [
            "Hello, world\n"
          ]
        }
      ],
      "source": [
        "print (\"Hello, world\")"
      ]
    },
    {
      "cell_type": "code",
      "execution_count": 1,
      "metadata": {
        "colab": {
          "base_uri": "https://localhost:8080/"
        },
        "id": "9ZpM84KCT0z9",
        "outputId": "acf3b3c8-3b80-4846-ae2b-b682559f679a"
      },
      "outputs": [
        {
          "output_type": "stream",
          "name": "stdout",
          "text": [
            "=== KALKULATOR ===\n",
            "Masukkan angka pertama: 5\n",
            "Masukkan angka kedua: 3\n",
            "Pilih operasi:\n",
            "1. Penjumlahan\n",
            "2. Pengurangan\n",
            "3. Perkalian\n",
            "4. Pembagian\n",
            "Masukkan pilihan (1/2/3/4): 4\n",
            "Hasil: 1.6666666666666667\n"
          ]
        }
      ],
      "source": [
        "# trial kalkulator & operasi sederhana\n",
        "print(\"=== KALKULATOR ===\")\n",
        "angka1 = float(input(\"Masukkan angka pertama: \"))\n",
        "angka2 = float(input(\"Masukkan angka kedua: \"))\n",
        "\n",
        "print(\"Pilih operasi:\")\n",
        "print(\"1. Penjumlahan\")\n",
        "print(\"2. Pengurangan\")\n",
        "print(\"3. Perkalian\")\n",
        "print(\"4. Pembagian\")\n",
        "\n",
        "pilihan = input(\"Masukkan pilihan (1/2/3/4): \")\n",
        "\n",
        "if pilihan == \"1\":\n",
        "    print(f\"Hasil: {angka1 + angka2}\")\n",
        "elif pilihan == \"2\":\n",
        "    print(f\"Hasil: {angka1 - angka2}\")\n",
        "elif pilihan == \"3\":\n",
        "    print(f\"Hasil: {angka1 * angka2}\")\n",
        "elif pilihan == \"4\":\n",
        "    if angka2 != 0:\n",
        "        print(f\"Hasil: {angka1 / angka2}\")\n",
        "    else:\n",
        "        print(\"Tidak bisa dibagi dengan nol!\")\n",
        "else:\n",
        "    print(\"Pilihan tidak valid.\")"
      ]
    },
    {
      "cell_type": "code",
      "source": [
        "# percobaan respon sederhana\n",
        "nama = input(\"Masukkan nama Anda: \")\n",
        "usia = input(\"Masukkan usia Anda: \")\n",
        "print(f\"Halo, {nama}! Hmm, usia {usia} tahun ya. \")\n",
        "favorit = input(\"Apa warna favoritmu? \")\n",
        "print(f\"{favorit}? Itu warna yang keren. Senang berkenalan, {nama}!\")\n"
      ],
      "metadata": {
        "colab": {
          "base_uri": "https://localhost:8080/"
        },
        "id": "HGaUNce3q-ZA",
        "outputId": "4906ff49-ab9f-4dce-eda3-d2d9b1894122"
      },
      "execution_count": 3,
      "outputs": [
        {
          "output_type": "stream",
          "name": "stdout",
          "text": [
            "Masukkan nama Anda: udin\n",
            "Masukkan usia Anda: 30\n",
            "Halo, udin! Hmm, usia 30 tahun ya. \n",
            "Apa warna favoritmu? biru\n",
            "biru? Itu warna yang keren. Senang berkenalan, udin!\n"
          ]
        }
      ]
    },
    {
      "cell_type": "markdown",
      "source": [],
      "metadata": {
        "id": "3FPIYOyfRQ6e"
      }
    },
    {
      "cell_type": "code",
      "source": [
        "# percobaan input sederhana dengan respon 2\n",
        "nama = input(\"masukkan nama anda: \")\n",
        "usia = input(\"berapa usia kamu?: \")\n",
        "print(f\"\\nhalo, {nama}! usiamu {usia} tahun, ya?\")\n",
        "\n",
        "hobby = input(\"\\nApa komik favoritmu?: \")\n",
        "print(f\"\\nKomik {hobby}? Keren banget, {nama}! Terima kasih sudah berbagi!\")"
      ],
      "metadata": {
        "colab": {
          "base_uri": "https://localhost:8080/"
        },
        "id": "CAIwSvTg9J9b",
        "outputId": "d49fed0b-4302-4386-fff0-c923d6f8f88f"
      },
      "execution_count": 4,
      "outputs": [
        {
          "output_type": "stream",
          "name": "stdout",
          "text": [
            "masukkan nama anda: udin\n",
            "berapa usia kamu?: 23\n",
            "\n",
            "halo, udin! usiamu 23 tahun, ya?\n",
            "\n",
            "Apa komik favoritmu?: shincan\n",
            "\n",
            "Komik shincan? Keren banget, udin! Terima kasih sudah berbagi!\n"
          ]
        }
      ]
    },
    {
      "cell_type": "code",
      "source": [
        "# membuat daftar belanja sederhana dengan if, while\n",
        "daftar_belanja = []\n",
        "\n",
        "while True:\n",
        "    item = input(\"Masukkan item belanja (ketik 'selesai' untuk keluar): \")\n",
        "    if item.lower() == \"selesai\":\n",
        "        break\n",
        "    daftar_belanja.append(item)\n",
        "\n",
        "print(\"\\n=== DAFTAR BELANJA ===\")\n",
        "for idx, barang in enumerate(daftar_belanja, start=1):\n",
        "    print(f\"{idx}. {barang}\")"
      ],
      "metadata": {
        "colab": {
          "base_uri": "https://localhost:8080/"
        },
        "id": "mdAZy704-O6T",
        "outputId": "3b8c7d93-d3fb-42ee-df69-6ed18b2b8f7c"
      },
      "execution_count": 5,
      "outputs": [
        {
          "output_type": "stream",
          "name": "stdout",
          "text": [
            "Masukkan item belanja (ketik 'selesai' untuk keluar): beras, cabai, saus\n",
            "Masukkan item belanja (ketik 'selesai' untuk keluar): bakso, ayam\n",
            "Masukkan item belanja (ketik 'selesai' untuk keluar): selesai\n",
            "\n",
            "=== DAFTAR BELANJA ===\n",
            "1. beras, cabai, saus\n",
            "2. bakso, ayam\n"
          ]
        }
      ]
    },
    {
      "cell_type": "markdown",
      "source": [
        "Percobaan test Numpy pandas dan analisis sederhana"
      ],
      "metadata": {
        "id": "xFoszE0rElZy"
      }
    },
    {
      "cell_type": "code",
      "source": [
        "!pip install numpy pandas"
      ],
      "metadata": {
        "colab": {
          "base_uri": "https://localhost:8080/"
        },
        "id": "VV1eUQ3e6fNG",
        "outputId": "59069469-4362-494a-f78a-ccd507d071c2"
      },
      "execution_count": null,
      "outputs": [
        {
          "output_type": "stream",
          "name": "stdout",
          "text": [
            "Requirement already satisfied: numpy in /usr/local/lib/python3.11/dist-packages (1.26.4)\n",
            "Requirement already satisfied: pandas in /usr/local/lib/python3.11/dist-packages (2.2.2)\n",
            "Requirement already satisfied: python-dateutil>=2.8.2 in /usr/local/lib/python3.11/dist-packages (from pandas) (2.8.2)\n",
            "Requirement already satisfied: pytz>=2020.1 in /usr/local/lib/python3.11/dist-packages (from pandas) (2025.1)\n",
            "Requirement already satisfied: tzdata>=2022.7 in /usr/local/lib/python3.11/dist-packages (from pandas) (2025.1)\n",
            "Requirement already satisfied: six>=1.5 in /usr/local/lib/python3.11/dist-packages (from python-dateutil>=2.8.2->pandas) (1.17.0)\n"
          ]
        }
      ]
    },
    {
      "cell_type": "code",
      "source": [
        "import numpy as np\n",
        "import pandas as pd"
      ],
      "metadata": {
        "id": "_Zs5SL5u6sVW"
      },
      "execution_count": null,
      "outputs": []
    },
    {
      "cell_type": "code",
      "source": [
        "# Project Mini: Analisis Penjualan Produk\n",
        "\n",
        "import pandas as pd\n",
        "\n",
        "# Analisis 1: data perusahaan untuk penjualan produk\n",
        "data = {\n",
        "    'Produk': ['Laptop', 'Smartphone', 'Tablet', 'Headphone'],\n",
        "    'Penjualan': [150, 300, 100, 200],\n",
        "    'Harga': [10000000, 5000000, 7000000, 2000000]\n",
        "}\n",
        "\n",
        "# Membuat & aplikasi DataFrame sederhana\n",
        "df = pd.DataFrame(data)\n",
        "\n",
        "# Menghitung pendapatan untuk setiap produk\n",
        "df['Pendapatan'] = df['Penjualan'] * df['Harga']\n",
        "\n",
        "# Menampilkan hasil\n",
        "print(\"=== DATA PENJUALAN ===\")\n",
        "print(df)\n",
        "\n",
        "# Statistik sederhana\n",
        "total_pendapatan = df['Pendapatan'].sum()\n",
        "rata_rata_penjualan = df['Penjualan'].mean()\n",
        "produk_terlaris = df.loc[df['Penjualan'].idxmax()]['Produk']\n",
        "\n",
        "print(\"\\n=== STATISTIK ===\")\n",
        "print(f\"Total Pendapatan: Rp{total_pendapatan:,}\")\n",
        "print(f\"Rata-rata Penjualan: {rata_rata_penjualan:.2f} unit\")\n",
        "print(f\"Produk Terlaris: {produk_terlaris}\")"
      ],
      "metadata": {
        "colab": {
          "base_uri": "https://localhost:8080/"
        },
        "id": "DRQtSWyX_Q6G",
        "outputId": "f52133ee-bb4a-4681-b1da-89c215246099"
      },
      "execution_count": 6,
      "outputs": [
        {
          "output_type": "stream",
          "name": "stdout",
          "text": [
            "=== DATA PENJUALAN ===\n",
            "       Produk  Penjualan     Harga  Pendapatan\n",
            "0      Laptop        150  10000000  1500000000\n",
            "1  Smartphone        300   5000000  1500000000\n",
            "2      Tablet        100   7000000   700000000\n",
            "3   Headphone        200   2000000   400000000\n",
            "\n",
            "=== STATISTIK ===\n",
            "Total Pendapatan: Rp4,100,000,000\n",
            "Rata-rata Penjualan: 187.50 unit\n",
            "Produk Terlaris: Smartphone\n"
          ]
        }
      ]
    }
  ],
  "metadata": {
    "colab": {
      "provenance": [],
      "toc_visible": true,
      "authorship_tag": "ABX9TyP0WTAbE6EaL5R3kx5jd9Wu",
      "include_colab_link": true
    },
    "kernelspec": {
      "display_name": "Python 3",
      "name": "python3"
    },
    "language_info": {
      "name": "python"
    }
  },
  "nbformat": 4,
  "nbformat_minor": 0
}