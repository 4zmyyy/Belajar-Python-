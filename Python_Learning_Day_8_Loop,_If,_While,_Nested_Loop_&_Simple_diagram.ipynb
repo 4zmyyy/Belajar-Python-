{
  "nbformat": 4,
  "nbformat_minor": 0,
  "metadata": {
    "colab": {
      "provenance": [],
      "authorship_tag": "ABX9TyMNbaUGSQsPIF2QCA/08tKX",
      "include_colab_link": true
    },
    "kernelspec": {
      "name": "python3",
      "display_name": "Python 3"
    },
    "language_info": {
      "name": "python"
    }
  },
  "cells": [
    {
      "cell_type": "markdown",
      "metadata": {
        "id": "view-in-github",
        "colab_type": "text"
      },
      "source": [
        "<a href=\"https://colab.research.google.com/github/4zmyyy/Belajar-Python-/blob/main/Python_Learning_Day_8_Loop%2C_If%2C_While%2C_Nested_Loop_%26_Simple_diagram.ipynb\" target=\"_parent\"><img src=\"https://colab.research.google.com/assets/colab-badge.svg\" alt=\"Open In Colab\"/></a>"
      ]
    },
    {
      "cell_type": "code",
      "source": [
        "# Loop # Iterasi melalui list/daftar\n",
        "buah = [\"apel\", \"jeruk\", \"mangga\"]\n",
        "for item in buah:\n",
        "    print(item)\n",
        "\n",
        "# Iterasi melalui range\n",
        "for i in range(5):  # Angka dari 0 hingga 4\n",
        "    print(f\"Iterasi ke-{i}\")"
      ],
      "metadata": {
        "id": "gsZ9Y38Fwe25",
        "colab": {
          "base_uri": "https://localhost:8080/"
        },
        "outputId": "4a76af82-a606-4dc2-b130-aaf6d3cc4b59"
      },
      "execution_count": 1,
      "outputs": [
        {
          "output_type": "stream",
          "name": "stdout",
          "text": [
            "apel\n",
            "jeruk\n",
            "mangga\n",
            "Iterasi ke-0\n",
            "Iterasi ke-1\n",
            "Iterasi ke-2\n",
            "Iterasi ke-3\n",
            "Iterasi ke-4\n"
          ]
        }
      ]
    },
    {
      "cell_type": "code",
      "source": [
        "# Percobaan sederhana Loop while\n",
        "x = 0\n",
        "while x < 5:\n",
        "    print(f\"Nilai x: {x}\")\n",
        "    x += 1  # Increment"
      ],
      "metadata": {
        "colab": {
          "base_uri": "https://localhost:8080/"
        },
        "id": "eBRXz_7_Eo1X",
        "outputId": "9a522108-11aa-4467-e7d5-3428b5e20b65"
      },
      "execution_count": 2,
      "outputs": [
        {
          "output_type": "stream",
          "name": "stdout",
          "text": [
            "Nilai x: 0\n",
            "Nilai x: 1\n",
            "Nilai x: 2\n",
            "Nilai x: 3\n",
            "Nilai x: 4\n"
          ]
        }
      ]
    },
    {
      "cell_type": "code",
      "source": [
        " # Fungsi membantu mengorganisasi kode menjadi blok yang dapat digunakan kembali.\n",
        "\n",
        "# Fungsi untuk menjumlahkan dua angka\n",
        "def tambah(a, b):\n",
        "    return a + b\n",
        "\n",
        "hasil = tambah(5, 3)\n",
        "print(f\"Hasil penjumlahan: {hasil}\")\n",
        "\n",
        "# percobaan Fungsi untuk mencetak deret angka\n",
        "def cetak_deret(n):\n",
        "    for i in range(n):\n",
        "        print(f\"Angka: {i}\")\n",
        "\n",
        "cetak_deret(5)"
      ],
      "metadata": {
        "colab": {
          "base_uri": "https://localhost:8080/"
        },
        "id": "I11MQ56eEz1O",
        "outputId": "298afd0c-90fe-42a1-d0d2-27676b70c3f9"
      },
      "execution_count": 4,
      "outputs": [
        {
          "output_type": "stream",
          "name": "stdout",
          "text": [
            "Hasil penjumlahan: 8\n",
            "Angka: 0\n",
            "Angka: 1\n",
            "Angka: 2\n",
            "Angka: 3\n",
            "Angka: 4\n"
          ]
        }
      ]
    },
    {
      "cell_type": "code",
      "source": [
        "#Nested Loop\n",
        "# Nested Loop adalah Loop didalam Loop yang digunakan untuk 2 fungsi utama yakni\n",
        "# Loop luar menjalankan sesuatu sekali.\n",
        "# Loop dalam menjalankan sesuatu berulang kali untuk setiap iterasi loop luar.\n",
        "\n",
        "# Percobaan Nested loop untuk membuat tabel perkalian\n",
        "for i in range(1, 6):  # Loop luar\n",
        "    for j in range(1, 6):  # Loop dalam\n",
        "        print(f\"{i} x {j} = {i * j}\", end=\"\\t\")\n",
        "    print()  # Pindah baris"
      ],
      "metadata": {
        "colab": {
          "base_uri": "https://localhost:8080/"
        },
        "id": "qMOJZDJJFOYA",
        "outputId": "ae72adbc-a312-4ec9-cfd7-c105eb29b204"
      },
      "execution_count": 5,
      "outputs": [
        {
          "output_type": "stream",
          "name": "stdout",
          "text": [
            "1 x 1 = 1\t1 x 2 = 2\t1 x 3 = 3\t1 x 4 = 4\t1 x 5 = 5\t\n",
            "2 x 1 = 2\t2 x 2 = 4\t2 x 3 = 6\t2 x 4 = 8\t2 x 5 = 10\t\n",
            "3 x 1 = 3\t3 x 2 = 6\t3 x 3 = 9\t3 x 4 = 12\t3 x 5 = 15\t\n",
            "4 x 1 = 4\t4 x 2 = 8\t4 x 3 = 12\t4 x 4 = 16\t4 x 5 = 20\t\n",
            "5 x 1 = 5\t5 x 2 = 10\t5 x 3 = 15\t5 x 4 = 20\t5 x 5 = 25\t\n"
          ]
        }
      ]
    }
  ]
}