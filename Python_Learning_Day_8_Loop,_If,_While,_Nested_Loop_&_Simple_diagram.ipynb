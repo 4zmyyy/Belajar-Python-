{
  "nbformat": 4,
  "nbformat_minor": 0,
  "metadata": {
    "colab": {
      "provenance": [],
      "authorship_tag": "ABX9TyNOKxR0jPAmMtgfDKkiEHM9",
      "include_colab_link": true
    },
    "kernelspec": {
      "name": "python3",
      "display_name": "Python 3"
    },
    "language_info": {
      "name": "python"
    }
  },
  "cells": [
    {
      "cell_type": "markdown",
      "metadata": {
        "id": "view-in-github",
        "colab_type": "text"
      },
      "source": [
        "<a href=\"https://colab.research.google.com/github/4zmyyy/Belajar-Python-/blob/main/Python_Learning_Day_8_Loop%2C_If%2C_While%2C_Nested_Loop_%26_Simple_diagram.ipynb\" target=\"_parent\"><img src=\"https://colab.research.google.com/assets/colab-badge.svg\" alt=\"Open In Colab\"/></a>"
      ]
    },
    {
      "cell_type": "code",
      "source": [
        "# Loop # Iterasi melalui list/daftar\n",
        "buah = [\"apel\", \"jeruk\", \"mangga\"]\n",
        "for item in buah:\n",
        "    print(item)\n",
        "\n",
        "# Iterasi melalui range\n",
        "for i in range(5):  # Angka dari 0 hingga 4\n",
        "    print(f\"Iterasi ke-{i}\")"
      ],
      "metadata": {
        "id": "gsZ9Y38Fwe25",
        "colab": {
          "base_uri": "https://localhost:8080/"
        },
        "outputId": "4a76af82-a606-4dc2-b130-aaf6d3cc4b59"
      },
      "execution_count": 1,
      "outputs": [
        {
          "output_type": "stream",
          "name": "stdout",
          "text": [
            "apel\n",
            "jeruk\n",
            "mangga\n",
            "Iterasi ke-0\n",
            "Iterasi ke-1\n",
            "Iterasi ke-2\n",
            "Iterasi ke-3\n",
            "Iterasi ke-4\n"
          ]
        }
      ]
    },
    {
      "cell_type": "code",
      "source": [
        "# Percobaan sederhana Loop while\n",
        "x = 0\n",
        "while x < 5:\n",
        "    print(f\"Nilai x: {x}\")\n",
        "    x += 1  # Increment"
      ],
      "metadata": {
        "colab": {
          "base_uri": "https://localhost:8080/"
        },
        "id": "eBRXz_7_Eo1X",
        "outputId": "9a522108-11aa-4467-e7d5-3428b5e20b65"
      },
      "execution_count": 2,
      "outputs": [
        {
          "output_type": "stream",
          "name": "stdout",
          "text": [
            "Nilai x: 0\n",
            "Nilai x: 1\n",
            "Nilai x: 2\n",
            "Nilai x: 3\n",
            "Nilai x: 4\n"
          ]
        }
      ]
    },
    {
      "cell_type": "code",
      "source": [
        "# percobaan while loop (hitung mundur dari 5)\n",
        "count = 5\n",
        "while count > 0:\n",
        "    print(count)\n",
        "    count -= 1"
      ],
      "metadata": {
        "colab": {
          "base_uri": "https://localhost:8080/"
        },
        "id": "oeVmv-SMKVdG",
        "outputId": "1bc313fe-05e7-461e-9c22-d1107ff60219"
      },
      "execution_count": 7,
      "outputs": [
        {
          "output_type": "stream",
          "name": "stdout",
          "text": [
            "5\n",
            "4\n",
            "3\n",
            "2\n",
            "1\n"
          ]
        }
      ]
    },
    {
      "cell_type": "code",
      "source": [
        " # Fungsi membantu mengorganisasi kode menjadi blok yang dapat digunakan kembali.\n",
        "\n",
        "# Fungsi untuk menjumlahkan dua angka\n",
        "def tambah(a, b):\n",
        "    return a + b\n",
        "\n",
        "hasil = tambah(5, 3)\n",
        "print(f\"Hasil penjumlahan: {hasil}\")\n",
        "\n",
        "# percobaan Fungsi untuk mencetak deret angka\n",
        "def cetak_deret(n):\n",
        "    for i in range(n):\n",
        "        print(f\"Angka: {i}\")\n",
        "\n",
        "cetak_deret(5)"
      ],
      "metadata": {
        "colab": {
          "base_uri": "https://localhost:8080/"
        },
        "id": "I11MQ56eEz1O",
        "outputId": "298afd0c-90fe-42a1-d0d2-27676b70c3f9"
      },
      "execution_count": 4,
      "outputs": [
        {
          "output_type": "stream",
          "name": "stdout",
          "text": [
            "Hasil penjumlahan: 8\n",
            "Angka: 0\n",
            "Angka: 1\n",
            "Angka: 2\n",
            "Angka: 3\n",
            "Angka: 4\n"
          ]
        }
      ]
    },
    {
      "cell_type": "code",
      "source": [
        "#Nested Loop\n",
        "# Nested Loop adalah Loop didalam Loop yang digunakan untuk 2 fungsi utama yakni\n",
        "# Loop luar menjalankan sesuatu sekali.\n",
        "# Loop dalam menjalankan sesuatu berulang kali untuk setiap iterasi loop luar.\n",
        "\n",
        "# Percobaan Nested loop untuk membuat tabel perkalian\n",
        "for i in range(1, 6):  # Loop luar\n",
        "    for j in range(1, 6):  # Loop dalam\n",
        "        print(f\"{i} x {j} = {i * j}\", end=\"\\t\")\n",
        "    print()  # Pindah baris"
      ],
      "metadata": {
        "colab": {
          "base_uri": "https://localhost:8080/"
        },
        "id": "qMOJZDJJFOYA",
        "outputId": "ae72adbc-a312-4ec9-cfd7-c105eb29b204"
      },
      "execution_count": 5,
      "outputs": [
        {
          "output_type": "stream",
          "name": "stdout",
          "text": [
            "1 x 1 = 1\t1 x 2 = 2\t1 x 3 = 3\t1 x 4 = 4\t1 x 5 = 5\t\n",
            "2 x 1 = 2\t2 x 2 = 4\t2 x 3 = 6\t2 x 4 = 8\t2 x 5 = 10\t\n",
            "3 x 1 = 3\t3 x 2 = 6\t3 x 3 = 9\t3 x 4 = 12\t3 x 5 = 15\t\n",
            "4 x 1 = 4\t4 x 2 = 8\t4 x 3 = 12\t4 x 4 = 16\t4 x 5 = 20\t\n",
            "5 x 1 = 5\t5 x 2 = 10\t5 x 3 = 15\t5 x 4 = 20\t5 x 5 = 25\t\n"
          ]
        }
      ]
    },
    {
      "cell_type": "code",
      "source": [
        "# Aplikasi pola bintang sederhana ( percobaan nested loop 2)\n",
        "size = 5\n",
        "\n",
        "for i in range(size):\n",
        "    # Kolom\n",
        "    for j in range(size):\n",
        "        print(\"*\", end=\" \")\n",
        "    print()\n",
        "\n",
        "    size = 5\n",
        "\n",
        "for i in range(size):\n",
        "    print(\"·\" * (size - i -1), end=\"\")\n",
        "    print(\"* \" * (i + 1))"
      ],
      "metadata": {
        "colab": {
          "base_uri": "https://localhost:8080/"
        },
        "id": "UkAeeONkGAQO",
        "outputId": "a698455b-ad94-4882-fc69-79239134ecbd"
      },
      "execution_count": 11,
      "outputs": [
        {
          "output_type": "stream",
          "name": "stdout",
          "text": [
            "* * * * * \n",
            "* * * * * \n",
            "* * * * * \n",
            "* * * * * \n",
            "* * * * * \n",
            "····* \n",
            "···* * \n",
            "··* * * \n",
            "·* * * * \n",
            "* * * * * \n"
          ]
        }
      ]
    },
    {
      "cell_type": "code",
      "source": [
        "# Percobaan piramida sederhana\n",
        "size = 5\n",
        "\n",
        "for i in range(size):\n",
        "    # Cetak spasi\n",
        "    print(\" \" * (size - i - 1), end=\"\")\n",
        "    # Cetak bintang\n",
        "    print(\"* \" * (i + 1))"
      ],
      "metadata": {
        "colab": {
          "base_uri": "https://localhost:8080/"
        },
        "id": "-FlCpAYELf8m",
        "outputId": "9dac6c4f-0aaf-4f15-84b8-60da287a7a95"
      },
      "execution_count": 12,
      "outputs": [
        {
          "output_type": "stream",
          "name": "stdout",
          "text": [
            "    * \n",
            "   * * \n",
            "  * * * \n",
            " * * * * \n",
            "* * * * * \n"
          ]
        }
      ]
    },
    {
      "cell_type": "code",
      "source": [
        "# diagram diamond sederhana: percobaan 1\n",
        "size = 5\n",
        "\n",
        "# Bagian atas\n",
        "for i in range(size):\n",
        "    print(\" \" * (size - i - 1) + \"* \" * (i + 1))\n",
        "# Bagian bawah\n",
        "for i in range(size - 2, -1, -1):\n",
        "    print(\" \" * (size - i - 1) + \"* \" * (i + 1))"
      ],
      "metadata": {
        "colab": {
          "base_uri": "https://localhost:8080/"
        },
        "id": "WlyKtJmiTOa1",
        "outputId": "fbf0bf25-d5db-43b0-bc2f-78d855774d27"
      },
      "execution_count": 13,
      "outputs": [
        {
          "output_type": "stream",
          "name": "stdout",
          "text": [
            "    * \n",
            "   * * \n",
            "  * * * \n",
            " * * * * \n",
            "* * * * * \n",
            " * * * * \n",
            "  * * * \n",
            "   * * \n",
            "    * \n"
          ]
        }
      ]
    },
    {
      "cell_type": "code",
      "source": [
        "# aplikasi pola bintang terbaik: percobaan 2\n",
        "size = 5\n",
        "\n",
        "for i in range(size):\n",
        "    for j in range(size):\n",
        "        if i % 2 == 0:\n",
        "            print(\"*\", end=\" \")\n",
        "        else:\n",
        "            print(\" \", end=\" \")\n",
        "    print()"
      ],
      "metadata": {
        "colab": {
          "base_uri": "https://localhost:8080/"
        },
        "id": "mpso7fVHTaxr",
        "outputId": "6960aaac-de15-4255-f632-ab0460484fa6"
      },
      "execution_count": 14,
      "outputs": [
        {
          "output_type": "stream",
          "name": "stdout",
          "text": [
            "* * * * * \n",
            "          \n",
            "* * * * * \n",
            "          \n",
            "* * * * * \n"
          ]
        }
      ]
    },
    {
      "cell_type": "code",
      "source": [
        "# diagram hollow diamond (diamond kosong)\n",
        "size = 5\n",
        "\n",
        "size = 5\n",
        "\n",
        "for i in range(size):\n",
        "    # Part 1: Atas\n",
        "    for j in range(size):\n",
        "        if j == i or j == size - i - 1:\n",
        "            print(\"*\", end=\" \")\n",
        "        else:\n",
        "            print(\" \", end=\" \")\n",
        "    print()\n",
        "\n",
        "for i in range(size - 2, -1, -1):\n",
        "    # Part 2: Bawah\n",
        "    for j in range(size):\n",
        "        if j == i or j == size - i - 1:\n",
        "            print(\"*\", end=\" \")\n",
        "        else:\n",
        "            print(\" \", end=\" \")\n",
        "    print()"
      ],
      "metadata": {
        "colab": {
          "base_uri": "https://localhost:8080/"
        },
        "id": "NAEm0jwKTmEk",
        "outputId": "5887b347-6ad6-42f1-90bb-2dfe79ef4be6"
      },
      "execution_count": 16,
      "outputs": [
        {
          "output_type": "stream",
          "name": "stdout",
          "text": [
            "*       * \n",
            "  *   *   \n",
            "    *     \n",
            "  *   *   \n",
            "*       * \n",
            "  *   *   \n",
            "    *     \n",
            "  *   *   \n",
            "*       * \n"
          ]
        }
      ]
    },
    {
      "cell_type": "code",
      "source": [
        "# cross pattern  sederhana ( diagram bintang menyilang)\n",
        "size = 5\n",
        "\n",
        "for i in range(size):\n",
        "    for j in range(size):\n",
        "        if i == size // 2 or j == size // 2:\n",
        "            print(\"*\", end=\"\")\n",
        "        else:\n",
        "            print(\" \", end=\"\")\n",
        "    print()"
      ],
      "metadata": {
        "colab": {
          "base_uri": "https://localhost:8080/"
        },
        "id": "lZvXLOxjT7L8",
        "outputId": "52ebd0ba-64a7-47fd-8164-5912b9138e08"
      },
      "execution_count": 17,
      "outputs": [
        {
          "output_type": "stream",
          "name": "stdout",
          "text": [
            "  *  \n",
            "  *  \n",
            "*****\n",
            "  *  \n",
            "  *  \n"
          ]
        }
      ]
    },
    {
      "cell_type": "code",
      "source": [
        "# garis bintang horizontal dan vertikal: percobaan 1\n",
        "size = 5\n",
        "\n",
        "for i in range(size):\n",
        "    if i % 2 == 0:\n",
        "        print(\"* \" * size)\n",
        "    else:\n",
        "        print(\" * \" * size)"
      ],
      "metadata": {
        "colab": {
          "base_uri": "https://localhost:8080/"
        },
        "id": "VCueUk70UDHb",
        "outputId": "021785a7-f5a4-4965-8012-c45bde6fc25f"
      },
      "execution_count": 19,
      "outputs": [
        {
          "output_type": "stream",
          "name": "stdout",
          "text": [
            "* * * * * \n",
            " *  *  *  *  * \n",
            "* * * * * \n",
            " *  *  *  *  * \n",
            "* * * * * \n"
          ]
        }
      ]
    }
  ]
}