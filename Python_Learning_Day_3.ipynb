{
  "nbformat": 4,
  "nbformat_minor": 0,
  "metadata": {
    "colab": {
      "provenance": [],
      "authorship_tag": "ABX9TyN8daawZa+lR/wOPUn063XL",
      "include_colab_link": true
    },
    "kernelspec": {
      "name": "python3",
      "display_name": "Python 3"
    },
    "language_info": {
      "name": "python"
    }
  },
  "cells": [
    {
      "cell_type": "markdown",
      "metadata": {
        "id": "view-in-github",
        "colab_type": "text"
      },
      "source": [
        "<a href=\"https://colab.research.google.com/github/4zmyyy/Belajarpyhton/blob/main/Python_Learning_Day_3.ipynb\" target=\"_parent\"><img src=\"https://colab.research.google.com/assets/colab-badge.svg\" alt=\"Open In Colab\"/></a>"
      ]
    },
    {
      "cell_type": "code",
      "execution_count": null,
      "metadata": {
        "colab": {
          "base_uri": "https://localhost:8080/"
        },
        "id": "pBnIAfaD7A06",
        "outputId": "f4a82d61-516d-4096-e652-b0663a221984"
      },
      "outputs": [
        {
          "output_type": "stream",
          "name": "stdout",
          "text": [
            "Requirement already satisfied: numpy in /usr/local/lib/python3.11/dist-packages (1.26.4)\n",
            "Requirement already satisfied: pandas in /usr/local/lib/python3.11/dist-packages (2.2.2)\n",
            "Requirement already satisfied: python-dateutil>=2.8.2 in /usr/local/lib/python3.11/dist-packages (from pandas) (2.8.2)\n",
            "Requirement already satisfied: pytz>=2020.1 in /usr/local/lib/python3.11/dist-packages (from pandas) (2025.1)\n",
            "Requirement already satisfied: tzdata>=2022.7 in /usr/local/lib/python3.11/dist-packages (from pandas) (2025.1)\n",
            "Requirement already satisfied: six>=1.5 in /usr/local/lib/python3.11/dist-packages (from python-dateutil>=2.8.2->pandas) (1.17.0)\n"
          ]
        }
      ],
      "source": [
        "!pip install numpy pandas"
      ]
    },
    {
      "cell_type": "code",
      "source": [
        "import numpy as np\n",
        "import pandas as pd"
      ],
      "metadata": {
        "id": "U77PaGrE7LTh"
      },
      "execution_count": null,
      "outputs": []
    },
    {
      "cell_type": "code",
      "source": [
        "# Membuat Numpy Array\n",
        "array = np.array([1, 2, 3, 4, 5])\n",
        "print(\"Array:\", array)\n",
        "\n",
        "# Operasi matematika\n",
        "print(\"Penjumlahan:\", array + 2)\n",
        "print(\"Perkalian:\", array * 2)\n",
        "print(\"Rata-rata:\", np.mean(array))\n",
        "print(\"Standar Deviasi:\", np.std(array))"
      ],
      "metadata": {
        "colab": {
          "base_uri": "https://localhost:8080/"
        },
        "id": "_P9NvEG47OFf",
        "outputId": "dd093e72-f864-4816-e3ad-80b11b4d2625"
      },
      "execution_count": null,
      "outputs": [
        {
          "output_type": "stream",
          "name": "stdout",
          "text": [
            "Array: [1 2 3 4 5]\n",
            "Penjumlahan: [3 4 5 6 7]\n",
            "Perkalian: [ 2  4  6  8 10]\n",
            "Rata-rata: 3.0\n",
            "Standar Deviasi: 1.4142135623730951\n"
          ]
        }
      ]
    },
    {
      "cell_type": "code",
      "source": [
        "# Membuat Simulasi DataFrame Gaji\n",
        "data = {\n",
        "    'Nama': ['Caca', 'Putra', 'Citra'],\n",
        "    'Umur': [22, 27, 25],\n",
        "    'Gaji': [3500000, 10000000, 6250000]\n",
        "}\n",
        "df = pd.DataFrame(data)\n",
        "print(\"DataFrame:\\n\", df)\n",
        "\n",
        "# Menampilkan kolom tertentu\n",
        "print(\"\\nKolom Nama:\\n\", df['Nama'])\n",
        "\n",
        "# Menambahkan kolom baru\n",
        "df['Bonus'] = df['Gaji'] * 0.1\n",
        "print(\"\\nDataFrame dengan Bonus:\\n\", df)"
      ],
      "metadata": {
        "colab": {
          "base_uri": "https://localhost:8080/"
        },
        "id": "Mm28LvNf7hM4",
        "outputId": "3e0d872e-0a50-47ed-dcee-795d945d2e70"
      },
      "execution_count": null,
      "outputs": [
        {
          "output_type": "stream",
          "name": "stdout",
          "text": [
            "DataFrame:\n",
            "     Nama  Umur      Gaji\n",
            "0   Caca    22   3500000\n",
            "1  Putra    27  10000000\n",
            "2  Citra    25   6250000\n",
            "\n",
            "Kolom Nama:\n",
            " 0     Caca\n",
            "1    Putra\n",
            "2    Citra\n",
            "Name: Nama, dtype: object\n",
            "\n",
            "DataFrame dengan Bonus:\n",
            "     Nama  Umur      Gaji      Bonus\n",
            "0   Caca    22   3500000   350000.0\n",
            "1  Putra    27  10000000  1000000.0\n",
            "2  Citra    25   6250000   625000.0\n"
          ]
        }
      ]
    },
    {
      "cell_type": "code",
      "source": [
        "# Mini Project: Analisis Data Penjualan\n",
        "import pandas as pd\n",
        "\n",
        "# Data penjualan\n",
        "data = {\n",
        "    'Produk': ['Laptop', 'Smartphone', 'Tablet'],\n",
        "    'Penjualan': [150, 300, 100],\n",
        "    'Harga': [10000000, 5000000, 7000000]\n",
        "}\n",
        "df = pd.DataFrame(data)\n",
        "\n",
        "# Tambahkan kolom Pendapatan\n",
        "df['Pendapatan'] = df['Penjualan'] * df['Harga']\n",
        "\n",
        "# Tampilkan hasil\n",
        "print(\"Data Penjualan:\\n\", df)\n",
        "print(\"\\nPendapatan Total:\", df['Pendapatan'].sum())"
      ],
      "metadata": {
        "colab": {
          "base_uri": "https://localhost:8080/"
        },
        "id": "ufKAXavd78JX",
        "outputId": "5916f549-9ced-4801-85a1-77b8356b0cab"
      },
      "execution_count": null,
      "outputs": [
        {
          "output_type": "stream",
          "name": "stdout",
          "text": [
            "Data Penjualan:\n",
            "        Produk  Penjualan     Harga  Pendapatan\n",
            "0      Laptop        150  10000000  1500000000\n",
            "1  Smartphone        300   5000000  1500000000\n",
            "2      Tablet        100   7000000   700000000\n",
            "\n",
            "Pendapatan Total: 3700000000\n"
          ]
        }
      ]
    },
    {
      "cell_type": "code",
      "source": [
        "# Proyek Mini: Analisis Penjualan Produk\n",
        "\n",
        "import pandas as pd\n",
        "\n",
        "# Data penjualan produk\n",
        "data = {\n",
        "    'Produk': ['Laptop', 'Smartphone', 'Tablet', 'Headphone'],\n",
        "    'Penjualan': [150, 300, 100, 200],\n",
        "    'Harga': [10000000, 5000000, 7000000, 2000000]\n",
        "}\n",
        "\n",
        "# Membuat DataFrame\n",
        "df = pd.DataFrame(data)\n",
        "\n",
        "# Menghitung pendapatan untuk setiap produk\n",
        "df['Pendapatan'] = df['Penjualan'] * df['Harga']\n",
        "\n",
        "# Menampilkan hasil\n",
        "print(\"=== DATA PENJUALAN ===\")\n",
        "print(df)\n",
        "\n",
        "# Statistik sederhana\n",
        "total_pendapatan = df['Pendapatan'].sum()\n",
        "rata_rata_penjualan = df['Penjualan'].mean()\n",
        "produk_terlaris = df.loc[df['Penjualan'].idxmax()]['Produk']\n",
        "\n",
        "print(\"\\n=== STATISTIK ===\")\n",
        "print(f\"Total Pendapatan: Rp{total_pendapatan:,}\")\n",
        "print(f\"Rata-rata Penjualan: {rata_rata_penjualan:.2f} unit\")\n",
        "print(f\"Produk Terlaris: {produk_terlaris}\")"
      ],
      "metadata": {
        "colab": {
          "base_uri": "https://localhost:8080/"
        },
        "id": "EhzFxsR7_kHt",
        "outputId": "50de3224-2d77-4cf5-b5f5-342d580e240d"
      },
      "execution_count": null,
      "outputs": [
        {
          "output_type": "stream",
          "name": "stdout",
          "text": [
            "=== DATA PENJUALAN ===\n",
            "       Produk  Penjualan     Harga  Pendapatan\n",
            "0      Laptop        150  10000000  1500000000\n",
            "1  Smartphone        300   5000000  1500000000\n",
            "2      Tablet        100   7000000   700000000\n",
            "3   Headphone        200   2000000   400000000\n",
            "\n",
            "=== STATISTIK ===\n",
            "Total Pendapatan: Rp4,100,000,000\n",
            "Rata-rata Penjualan: 187.50 unit\n",
            "Produk Terlaris: Smartphone\n"
          ]
        }
      ]
    }
  ]
}