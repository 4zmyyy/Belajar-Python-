{
  "nbformat": 4,
  "nbformat_minor": 0,
  "metadata": {
    "colab": {
      "provenance": [],
      "authorship_tag": "ABX9TyPJPgRm9HLKbI5thG1Sr2Hu",
      "include_colab_link": true
    },
    "kernelspec": {
      "name": "python3",
      "display_name": "Python 3"
    },
    "language_info": {
      "name": "python"
    }
  },
  "cells": [
    {
      "cell_type": "markdown",
      "metadata": {
        "id": "view-in-github",
        "colab_type": "text"
      },
      "source": [
        "<a href=\"https://colab.research.google.com/github/4zmyyy/Belajar-Python-/blob/main/Python_Learning_Day_8_9_Loop%2C_If%2C_While%2C_Nested_Loop%2C_Diagram%2C_Calculator.ipynb\" target=\"_parent\"><img src=\"https://colab.research.google.com/assets/colab-badge.svg\" alt=\"Open In Colab\"/></a>"
      ]
    },
    {
      "cell_type": "code",
      "source": [
        "# Loop # Iterasi melalui list/daftar\n",
        "buah = [\"apel\", \"jeruk\", \"mangga\"]\n",
        "for item in buah:\n",
        "    print(item)\n",
        "\n",
        "# Iterasi melalui range\n",
        "for i in range(5):  # Angka dari 0 hingga 4\n",
        "    print(f\"Iterasi ke-{i}\")"
      ],
      "metadata": {
        "id": "gsZ9Y38Fwe25",
        "colab": {
          "base_uri": "https://localhost:8080/"
        },
        "outputId": "4a76af82-a606-4dc2-b130-aaf6d3cc4b59"
      },
      "execution_count": null,
      "outputs": [
        {
          "output_type": "stream",
          "name": "stdout",
          "text": [
            "apel\n",
            "jeruk\n",
            "mangga\n",
            "Iterasi ke-0\n",
            "Iterasi ke-1\n",
            "Iterasi ke-2\n",
            "Iterasi ke-3\n",
            "Iterasi ke-4\n"
          ]
        }
      ]
    },
    {
      "cell_type": "code",
      "source": [
        "# Percobaan sederhana Loop while\n",
        "x = 0\n",
        "while x < 5:\n",
        "    print(f\"Nilai x: {x}\")\n",
        "    x += 1  # Increment"
      ],
      "metadata": {
        "colab": {
          "base_uri": "https://localhost:8080/"
        },
        "id": "eBRXz_7_Eo1X",
        "outputId": "9a522108-11aa-4467-e7d5-3428b5e20b65"
      },
      "execution_count": null,
      "outputs": [
        {
          "output_type": "stream",
          "name": "stdout",
          "text": [
            "Nilai x: 0\n",
            "Nilai x: 1\n",
            "Nilai x: 2\n",
            "Nilai x: 3\n",
            "Nilai x: 4\n"
          ]
        }
      ]
    },
    {
      "cell_type": "code",
      "source": [
        "# percobaan while loop (hitung mundur dari 5)\n",
        "count = 5\n",
        "while count > 0:\n",
        "    print(count)\n",
        "    count -= 1"
      ],
      "metadata": {
        "colab": {
          "base_uri": "https://localhost:8080/"
        },
        "id": "oeVmv-SMKVdG",
        "outputId": "1bc313fe-05e7-461e-9c22-d1107ff60219"
      },
      "execution_count": null,
      "outputs": [
        {
          "output_type": "stream",
          "name": "stdout",
          "text": [
            "5\n",
            "4\n",
            "3\n",
            "2\n",
            "1\n"
          ]
        }
      ]
    },
    {
      "cell_type": "code",
      "source": [
        " # Fungsi membantu mengorganisasi kode menjadi blok yang dapat digunakan kembali.\n",
        "\n",
        "# Fungsi untuk menjumlahkan dua angka\n",
        "def tambah(a, b):\n",
        "    return a + b\n",
        "\n",
        "hasil = tambah(5, 3)\n",
        "print(f\"Hasil penjumlahan: {hasil}\")\n",
        "\n",
        "# percobaan Fungsi untuk mencetak deret angka\n",
        "def cetak_deret(n):\n",
        "    for i in range(n):\n",
        "        print(f\"Angka: {i}\")\n",
        "\n",
        "cetak_deret(5)"
      ],
      "metadata": {
        "colab": {
          "base_uri": "https://localhost:8080/"
        },
        "id": "I11MQ56eEz1O",
        "outputId": "298afd0c-90fe-42a1-d0d2-27676b70c3f9"
      },
      "execution_count": null,
      "outputs": [
        {
          "output_type": "stream",
          "name": "stdout",
          "text": [
            "Hasil penjumlahan: 8\n",
            "Angka: 0\n",
            "Angka: 1\n",
            "Angka: 2\n",
            "Angka: 3\n",
            "Angka: 4\n"
          ]
        }
      ]
    },
    {
      "cell_type": "code",
      "source": [
        "#Nested Loop\n",
        "# Nested Loop adalah Loop didalam Loop yang digunakan untuk 2 fungsi utama yakni\n",
        "# Loop luar menjalankan sesuatu sekali.\n",
        "# Loop dalam menjalankan sesuatu berulang kali untuk setiap iterasi loop luar.\n",
        "\n",
        "# Percobaan Nested loop untuk membuat tabel perkalian\n",
        "for i in range(1, 6):  # Loop luar\n",
        "    for j in range(1, 6):  # Loop dalam\n",
        "        print(f\"{i} x {j} = {i * j}\", end=\"\\t\")\n",
        "    print()  # Pindah baris"
      ],
      "metadata": {
        "colab": {
          "base_uri": "https://localhost:8080/"
        },
        "id": "qMOJZDJJFOYA",
        "outputId": "ae72adbc-a312-4ec9-cfd7-c105eb29b204"
      },
      "execution_count": null,
      "outputs": [
        {
          "output_type": "stream",
          "name": "stdout",
          "text": [
            "1 x 1 = 1\t1 x 2 = 2\t1 x 3 = 3\t1 x 4 = 4\t1 x 5 = 5\t\n",
            "2 x 1 = 2\t2 x 2 = 4\t2 x 3 = 6\t2 x 4 = 8\t2 x 5 = 10\t\n",
            "3 x 1 = 3\t3 x 2 = 6\t3 x 3 = 9\t3 x 4 = 12\t3 x 5 = 15\t\n",
            "4 x 1 = 4\t4 x 2 = 8\t4 x 3 = 12\t4 x 4 = 16\t4 x 5 = 20\t\n",
            "5 x 1 = 5\t5 x 2 = 10\t5 x 3 = 15\t5 x 4 = 20\t5 x 5 = 25\t\n"
          ]
        }
      ]
    },
    {
      "cell_type": "code",
      "source": [
        "# Aplikasi pola bintang sederhana ( percobaan nested loop 2)\n",
        "size = 5\n",
        "\n",
        "for i in range(size):\n",
        "    # Kolom\n",
        "    for j in range(size):\n",
        "        print(\"*\", end=\" \")\n",
        "    print()\n",
        "\n",
        "    size = 5\n",
        "\n",
        "for i in range(size):\n",
        "    print(\"·\" * (size - i -1), end=\"\")\n",
        "    print(\"* \" * (i + 1))"
      ],
      "metadata": {
        "colab": {
          "base_uri": "https://localhost:8080/"
        },
        "id": "UkAeeONkGAQO",
        "outputId": "a698455b-ad94-4882-fc69-79239134ecbd"
      },
      "execution_count": null,
      "outputs": [
        {
          "output_type": "stream",
          "name": "stdout",
          "text": [
            "* * * * * \n",
            "* * * * * \n",
            "* * * * * \n",
            "* * * * * \n",
            "* * * * * \n",
            "····* \n",
            "···* * \n",
            "··* * * \n",
            "·* * * * \n",
            "* * * * * \n"
          ]
        }
      ]
    },
    {
      "cell_type": "code",
      "source": [
        "# Percobaan piramida sederhana\n",
        "size = 5\n",
        "\n",
        "for i in range(size):\n",
        "    # Cetak spasi\n",
        "    print(\" \" * (size - i - 1), end=\"\")\n",
        "    # Cetak bintang\n",
        "    print(\"* \" * (i + 1))"
      ],
      "metadata": {
        "colab": {
          "base_uri": "https://localhost:8080/"
        },
        "id": "-FlCpAYELf8m",
        "outputId": "9dac6c4f-0aaf-4f15-84b8-60da287a7a95"
      },
      "execution_count": null,
      "outputs": [
        {
          "output_type": "stream",
          "name": "stdout",
          "text": [
            "    * \n",
            "   * * \n",
            "  * * * \n",
            " * * * * \n",
            "* * * * * \n"
          ]
        }
      ]
    },
    {
      "cell_type": "code",
      "source": [
        "# diagram diamond sederhana: percobaan 1\n",
        "size = 5\n",
        "\n",
        "# Bagian atas\n",
        "for i in range(size):\n",
        "    print(\" \" * (size - i - 1) + \"* \" * (i + 1))\n",
        "# Bagian bawah\n",
        "for i in range(size - 2, -1, -1):\n",
        "    print(\" \" * (size - i - 1) + \"* \" * (i + 1))"
      ],
      "metadata": {
        "colab": {
          "base_uri": "https://localhost:8080/"
        },
        "id": "WlyKtJmiTOa1",
        "outputId": "fbf0bf25-d5db-43b0-bc2f-78d855774d27"
      },
      "execution_count": null,
      "outputs": [
        {
          "output_type": "stream",
          "name": "stdout",
          "text": [
            "    * \n",
            "   * * \n",
            "  * * * \n",
            " * * * * \n",
            "* * * * * \n",
            " * * * * \n",
            "  * * * \n",
            "   * * \n",
            "    * \n"
          ]
        }
      ]
    },
    {
      "cell_type": "code",
      "source": [
        "# aplikasi pola bintang terbaik: percobaan 2\n",
        "size = 5\n",
        "\n",
        "for i in range(size):\n",
        "    for j in range(size):\n",
        "        if i % 2 == 0:\n",
        "            print(\"*\", end=\" \")\n",
        "        else:\n",
        "            print(\" \", end=\" \")\n",
        "    print()"
      ],
      "metadata": {
        "colab": {
          "base_uri": "https://localhost:8080/"
        },
        "id": "mpso7fVHTaxr",
        "outputId": "6960aaac-de15-4255-f632-ab0460484fa6"
      },
      "execution_count": null,
      "outputs": [
        {
          "output_type": "stream",
          "name": "stdout",
          "text": [
            "* * * * * \n",
            "          \n",
            "* * * * * \n",
            "          \n",
            "* * * * * \n"
          ]
        }
      ]
    },
    {
      "cell_type": "code",
      "source": [
        "# diagram hollow diamond (diamond kosong)\n",
        "size = 5\n",
        "\n",
        "size = 5\n",
        "\n",
        "for i in range(size):\n",
        "    # Part 1: Atas\n",
        "    for j in range(size):\n",
        "        if j == i or j == size - i - 1:\n",
        "            print(\"*\", end=\" \")\n",
        "        else:\n",
        "            print(\" \", end=\" \")\n",
        "    print()\n",
        "\n",
        "for i in range(size - 2, -1, -1):\n",
        "    # Part 2: Bawah\n",
        "    for j in range(size):\n",
        "        if j == i or j == size - i - 1:\n",
        "            print(\"*\", end=\" \")\n",
        "        else:\n",
        "            print(\" \", end=\" \")\n",
        "    print()"
      ],
      "metadata": {
        "colab": {
          "base_uri": "https://localhost:8080/"
        },
        "id": "NAEm0jwKTmEk",
        "outputId": "5887b347-6ad6-42f1-90bb-2dfe79ef4be6"
      },
      "execution_count": null,
      "outputs": [
        {
          "output_type": "stream",
          "name": "stdout",
          "text": [
            "*       * \n",
            "  *   *   \n",
            "    *     \n",
            "  *   *   \n",
            "*       * \n",
            "  *   *   \n",
            "    *     \n",
            "  *   *   \n",
            "*       * \n"
          ]
        }
      ]
    },
    {
      "cell_type": "code",
      "source": [
        "# cross pattern  sederhana ( diagram bintang menyilang)\n",
        "size = 5\n",
        "\n",
        "for i in range(size):\n",
        "    for j in range(size):\n",
        "        if i == size // 2 or j == size // 2:\n",
        "            print(\"*\", end=\"\")\n",
        "        else:\n",
        "            print(\" \", end=\"\")\n",
        "    print()"
      ],
      "metadata": {
        "colab": {
          "base_uri": "https://localhost:8080/"
        },
        "id": "lZvXLOxjT7L8",
        "outputId": "52ebd0ba-64a7-47fd-8164-5912b9138e08"
      },
      "execution_count": null,
      "outputs": [
        {
          "output_type": "stream",
          "name": "stdout",
          "text": [
            "  *  \n",
            "  *  \n",
            "*****\n",
            "  *  \n",
            "  *  \n"
          ]
        }
      ]
    },
    {
      "cell_type": "code",
      "source": [
        "# garis bintang horizontal dan vertikal: percobaan 1\n",
        "size = 5\n",
        "\n",
        "for i in range(size):\n",
        "    if i % 2 == 0:\n",
        "        print(\"* \" * size)\n",
        "    else:\n",
        "        print(\" * \" * size)"
      ],
      "metadata": {
        "colab": {
          "base_uri": "https://localhost:8080/"
        },
        "id": "VCueUk70UDHb",
        "outputId": "021785a7-f5a4-4965-8012-c45bde6fc25f"
      },
      "execution_count": null,
      "outputs": [
        {
          "output_type": "stream",
          "name": "stdout",
          "text": [
            "* * * * * \n",
            " *  *  *  *  * \n",
            "* * * * * \n",
            " *  *  *  *  * \n",
            "* * * * * \n"
          ]
        }
      ]
    },
    {
      "cell_type": "code",
      "source": [
        "# percobaan definisi fungsi\n",
        "def sapa():\n",
        "    print(\"Halo, selamat datang di Python!\")"
      ],
      "metadata": {
        "id": "lLYsWp8JgJrV"
      },
      "execution_count": 12,
      "outputs": []
    },
    {
      "cell_type": "code",
      "source": [
        "# percobaan definisi dasar\n",
        "def tambah_angka(a, b):\n",
        "    return a + b"
      ],
      "metadata": {
        "id": "2C5Lu5StKZgL"
      },
      "execution_count": 7,
      "outputs": []
    },
    {
      "cell_type": "code",
      "source": [
        "# percobaan fungsi, while, true untuk kalkulator sederhana\n",
        "def kalkulator():\n",
        "    print(\"Selamat datang di Kalkulator Sederhana!\")\n",
        "    while True:\n",
        "        print(\"\\nPilih operasi:\")\n",
        "        print(\"1. Penjumlahan\")\n",
        "        print(\"2. Pengurangan\")\n",
        "        print(\"3. Perkalian\")\n",
        "        print(\"4. Pembagian\")\n",
        "        print(\"5. Keluar\")\n",
        "\n",
        "        pilihan = input(\"Masukkan pilihan (1/2/3/4/5): \")\n",
        "\n",
        "        if pilihan == '5':\n",
        "            print(\"Terima kasih telah menggunakan kalkulator.\")\n",
        "            break\n",
        "\n",
        "        if pilihan not in ['1', '2', '3', '4']:\n",
        "            print(\"Pilihan tidak valid. Silakan coba lagi.\")\n",
        "            continue\n",
        "\n",
        "        try:\n",
        "            angka1 = float(input(\"Masukkan angka pertama: \"))\n",
        "            angka2 = float(input(\"Masukkan angka kedua: \"))\n",
        "        except ValueError:\n",
        "            print(\"Input tidak valid. Silakan masukkan angka.\")\n",
        "            continue\n",
        "\n",
        "        if pilihan == '1':\n",
        "            print(f\"Hasil: {angka1} + {angka2} = {tambah(angka1, angka2)}\")\n",
        "        elif pilihan == '2':\n",
        "            print(f\"Hasil: {angka1} - {angka2} = {kurang(angka1, angka2)}\")\n",
        "        elif pilihan == '3':\n",
        "            print(f\"Hasil: {angka1} * {angka2} = {kali(angka1, angka2)}\")\n",
        "        elif pilihan == '4':\n",
        "            print(f\"Hasil: {angka1} / {angka2} = {bagi(angka1, angka2)}\")\n",
        "kalkulator()"
      ],
      "metadata": {
        "colab": {
          "base_uri": "https://localhost:8080/",
          "height": 651
        },
        "id": "RsSsxPDXKryy",
        "outputId": "6dd4be5e-e14b-4388-be53-5cb80c84a89b"
      },
      "execution_count": 16,
      "outputs": [
        {
          "output_type": "stream",
          "name": "stdout",
          "text": [
            "Selamat datang di Kalkulator Sederhana!\n",
            "\n",
            "Pilih operasi:\n",
            "1. Penjumlahan\n",
            "2. Pengurangan\n",
            "3. Perkalian\n",
            "4. Pembagian\n",
            "5. Keluar\n",
            "Masukkan pilihan (1/2/3/4/5): 3\n",
            "Masukkan angka pertama: 3\n",
            "Masukkan angka kedua: 4\n",
            "Hasil: 3.0 * 4.0 = 12.0\n",
            "\n",
            "Pilih operasi:\n",
            "1. Penjumlahan\n",
            "2. Pengurangan\n",
            "3. Perkalian\n",
            "4. Pembagian\n",
            "5. Keluar\n"
          ]
        },
        {
          "output_type": "error",
          "ename": "KeyboardInterrupt",
          "evalue": "Interrupted by user",
          "traceback": [
            "\u001b[0;31m---------------------------------------------------------------------------\u001b[0m",
            "\u001b[0;31mKeyboardInterrupt\u001b[0m                         Traceback (most recent call last)",
            "\u001b[0;32m<ipython-input-16-24c53a46a59e>\u001b[0m in \u001b[0;36m<cell line: 0>\u001b[0;34m()\u001b[0m\n\u001b[1;32m     35\u001b[0m         \u001b[0;32melif\u001b[0m \u001b[0mpilihan\u001b[0m \u001b[0;34m==\u001b[0m \u001b[0;34m'4'\u001b[0m\u001b[0;34m:\u001b[0m\u001b[0;34m\u001b[0m\u001b[0;34m\u001b[0m\u001b[0m\n\u001b[1;32m     36\u001b[0m             \u001b[0mprint\u001b[0m\u001b[0;34m(\u001b[0m\u001b[0;34mf\"Hasil: {angka1} / {angka2} = {bagi(angka1, angka2)}\"\u001b[0m\u001b[0;34m)\u001b[0m\u001b[0;34m\u001b[0m\u001b[0;34m\u001b[0m\u001b[0m\n\u001b[0;32m---> 37\u001b[0;31m \u001b[0mkalkulator\u001b[0m\u001b[0;34m(\u001b[0m\u001b[0;34m)\u001b[0m\u001b[0;34m\u001b[0m\u001b[0;34m\u001b[0m\u001b[0m\n\u001b[0m",
            "\u001b[0;32m<ipython-input-16-24c53a46a59e>\u001b[0m in \u001b[0;36mkalkulator\u001b[0;34m()\u001b[0m\n\u001b[1;32m     10\u001b[0m         \u001b[0mprint\u001b[0m\u001b[0;34m(\u001b[0m\u001b[0;34m\"5. Keluar\"\u001b[0m\u001b[0;34m)\u001b[0m\u001b[0;34m\u001b[0m\u001b[0;34m\u001b[0m\u001b[0m\n\u001b[1;32m     11\u001b[0m \u001b[0;34m\u001b[0m\u001b[0m\n\u001b[0;32m---> 12\u001b[0;31m         \u001b[0mpilihan\u001b[0m \u001b[0;34m=\u001b[0m \u001b[0minput\u001b[0m\u001b[0;34m(\u001b[0m\u001b[0;34m\"Masukkan pilihan (1/2/3/4/5): \"\u001b[0m\u001b[0;34m)\u001b[0m\u001b[0;34m\u001b[0m\u001b[0;34m\u001b[0m\u001b[0m\n\u001b[0m\u001b[1;32m     13\u001b[0m \u001b[0;34m\u001b[0m\u001b[0m\n\u001b[1;32m     14\u001b[0m         \u001b[0;32mif\u001b[0m \u001b[0mpilihan\u001b[0m \u001b[0;34m==\u001b[0m \u001b[0;34m'5'\u001b[0m\u001b[0;34m:\u001b[0m\u001b[0;34m\u001b[0m\u001b[0;34m\u001b[0m\u001b[0m\n",
            "\u001b[0;32m/usr/local/lib/python3.11/dist-packages/ipykernel/kernelbase.py\u001b[0m in \u001b[0;36mraw_input\u001b[0;34m(self, prompt)\u001b[0m\n\u001b[1;32m   1175\u001b[0m                 \u001b[0;34m\"raw_input was called, but this frontend does not support input requests.\"\u001b[0m\u001b[0;34m\u001b[0m\u001b[0;34m\u001b[0m\u001b[0m\n\u001b[1;32m   1176\u001b[0m             )\n\u001b[0;32m-> 1177\u001b[0;31m         return self._input_request(\n\u001b[0m\u001b[1;32m   1178\u001b[0m             \u001b[0mstr\u001b[0m\u001b[0;34m(\u001b[0m\u001b[0mprompt\u001b[0m\u001b[0;34m)\u001b[0m\u001b[0;34m,\u001b[0m\u001b[0;34m\u001b[0m\u001b[0;34m\u001b[0m\u001b[0m\n\u001b[1;32m   1179\u001b[0m             \u001b[0mself\u001b[0m\u001b[0;34m.\u001b[0m\u001b[0m_parent_ident\u001b[0m\u001b[0;34m[\u001b[0m\u001b[0;34m\"shell\"\u001b[0m\u001b[0;34m]\u001b[0m\u001b[0;34m,\u001b[0m\u001b[0;34m\u001b[0m\u001b[0;34m\u001b[0m\u001b[0m\n",
            "\u001b[0;32m/usr/local/lib/python3.11/dist-packages/ipykernel/kernelbase.py\u001b[0m in \u001b[0;36m_input_request\u001b[0;34m(self, prompt, ident, parent, password)\u001b[0m\n\u001b[1;32m   1217\u001b[0m             \u001b[0;32mexcept\u001b[0m \u001b[0mKeyboardInterrupt\u001b[0m\u001b[0;34m:\u001b[0m\u001b[0;34m\u001b[0m\u001b[0;34m\u001b[0m\u001b[0m\n\u001b[1;32m   1218\u001b[0m                 \u001b[0;31m# re-raise KeyboardInterrupt, to truncate traceback\u001b[0m\u001b[0;34m\u001b[0m\u001b[0;34m\u001b[0m\u001b[0m\n\u001b[0;32m-> 1219\u001b[0;31m                 \u001b[0;32mraise\u001b[0m \u001b[0mKeyboardInterrupt\u001b[0m\u001b[0;34m(\u001b[0m\u001b[0;34m\"Interrupted by user\"\u001b[0m\u001b[0;34m)\u001b[0m \u001b[0;32mfrom\u001b[0m \u001b[0;32mNone\u001b[0m\u001b[0;34m\u001b[0m\u001b[0;34m\u001b[0m\u001b[0m\n\u001b[0m\u001b[1;32m   1220\u001b[0m             \u001b[0;32mexcept\u001b[0m \u001b[0mException\u001b[0m\u001b[0;34m:\u001b[0m\u001b[0;34m\u001b[0m\u001b[0;34m\u001b[0m\u001b[0m\n\u001b[1;32m   1221\u001b[0m                 \u001b[0mself\u001b[0m\u001b[0;34m.\u001b[0m\u001b[0mlog\u001b[0m\u001b[0;34m.\u001b[0m\u001b[0mwarning\u001b[0m\u001b[0;34m(\u001b[0m\u001b[0;34m\"Invalid Message:\"\u001b[0m\u001b[0;34m,\u001b[0m \u001b[0mexc_info\u001b[0m\u001b[0;34m=\u001b[0m\u001b[0;32mTrue\u001b[0m\u001b[0;34m)\u001b[0m\u001b[0;34m\u001b[0m\u001b[0;34m\u001b[0m\u001b[0m\n",
            "\u001b[0;31mKeyboardInterrupt\u001b[0m: Interrupted by user"
          ]
        }
      ]
    },
    {
      "cell_type": "code",
      "source": [],
      "metadata": {
        "id": "puo5fbT9Nb-U"
      },
      "execution_count": null,
      "outputs": []
    }
  ]
}