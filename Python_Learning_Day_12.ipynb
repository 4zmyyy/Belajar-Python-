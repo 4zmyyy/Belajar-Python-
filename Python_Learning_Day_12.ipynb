{
  "nbformat": 4,
  "nbformat_minor": 0,
  "metadata": {
    "colab": {
      "provenance": [],
      "authorship_tag": "ABX9TyOUaRehotrsXhbrOyZMupKc",
      "include_colab_link": true
    },
    "kernelspec": {
      "name": "python3",
      "display_name": "Python 3"
    },
    "language_info": {
      "name": "python"
    }
  },
  "cells": [
    {
      "cell_type": "markdown",
      "metadata": {
        "id": "view-in-github",
        "colab_type": "text"
      },
      "source": [
        "<a href=\"https://colab.research.google.com/github/4zmyyy/Belajar-Python-/blob/main/Python_Learning_Day_12.ipynb\" target=\"_parent\"><img src=\"https://colab.research.google.com/assets/colab-badge.svg\" alt=\"Open In Colab\"/></a>"
      ]
    },
    {
      "cell_type": "code",
      "source": [
        "# Menulis data siswa ke CSV dengan aplikasi & string operation\n",
        "students = []\n",
        "num_students = int(input(\"Berapa siswa yang ingin Anda masukkan? \"))\n",
        "\n",
        "for i in range(num_students):\n",
        "    name = input(f\"Nama siswa ke-{i+1}: \")\n",
        "    score = input(f\"Nilai siswa ke-{i+1}: \")\n",
        "    students.append(f\"{name},{score}\")  # Gabungkan data dengan koma\n",
        "\n",
        "with open(\"students.csv\", \"w\") as file:\n",
        "    file.write(\"Nama,Nilai\\n\")  # Header CSV\n",
        "    file.write(\"\\n\".join(students))  # Tulis data siswa\n",
        "\n",
        "print(\"Data siswa telah tersimpan ke students.csv\")\n"
      ],
      "metadata": {
        "colab": {
          "base_uri": "https://localhost:8080/"
        },
        "id": "kbdkKqTCEwEj",
        "outputId": "f531b476-25f5-481f-fb6b-6092b3dbbc38"
      },
      "execution_count": 5,
      "outputs": [
        {
          "output_type": "stream",
          "name": "stdout",
          "text": [
            "Berapa siswa yang ingin Anda masukkan? 5\n",
            "Nama siswa ke-1: udin\n",
            "Nilai siswa ke-1: 7\n",
            "Nama siswa ke-2: rian\n",
            "Nilai siswa ke-2: 8\n",
            "Nama siswa ke-3: herman\n",
            "Nilai siswa ke-3: 8\n",
            "Nama siswa ke-4: rudi\n",
            "Nilai siswa ke-4: 8\n",
            "Nama siswa ke-5: kika\n",
            "Nilai siswa ke-5: 9\n",
            "Data siswa telah tersimpan ke students.csv\n"
          ]
        }
      ]
    },
    {
      "cell_type": "code",
      "source": [
        "# Membaca CSV dan membuat laporan sederhana\n",
        "# Membaca CSV dan membuat laporan (sulit)\n",
        "import csv\n",
        "\n",
        "try:\n",
        "    with open(\"students.csv\", \"r\") as file:\n",
        "        reader = csv.DictReader(file)\n",
        "        total_score = 0\n",
        "        report = []\n",
        "        students_count = 0  # Hitung jumlah siswa\n",
        "\n",
        "        for row in reader:\n",
        "            students_count += 1\n",
        "            name = row[\"Nama\"]\n",
        "            score = int(row[\"Nilai\"])\n",
        "            total_score += score\n",
        "            status = \"Lulus\" if score >= 80 else \"Tidak Lulus\"\n",
        "            report.append(f\"{name} - {score} ({status})\")\n",
        "\n",
        "    average = total_score / students_count\n",
        "\n",
        "    # Tulis laporan ke file teks\n",
        "    with open(\"laporan.txt\", \"w\") as report_file:\n",
        "        report_file.write(f\"Rata-rata kelas: {average:.2f}\\n\\n\")\n",
        "        report_file.write(\"\\n\".join(report))\n",
        "\n",
        "    print(\"Laporan telah disimpan ke laporan.txt\")\n",
        "except FileNotFoundError:\n",
        "    print(\"Error: Tidak menemukan file students.csv. Tolong jalankan kode 'Mudah' terlebih dahulu.\")\n",
        "except ZeroDivisionError:\n",
        "    print(\"Error: Tidak ada data siswa. File students.csv kosong.\")"
      ],
      "metadata": {
        "colab": {
          "base_uri": "https://localhost:8080/"
        },
        "id": "_sXDoCD5K4JS",
        "outputId": "2a886912-1710-42c6-d06b-5dee648f3c08"
      },
      "execution_count": 10,
      "outputs": [
        {
          "output_type": "stream",
          "name": "stdout",
          "text": [
            "Laporan telah disimpan ke laporan.txt\n"
          ]
        }
      ]
    },
    {
      "cell_type": "code",
      "source": [
        "# Pemindah nama dengan pemrosesan string (sulit)\n",
        "import os\n",
        "\n",
        "folder = input(\"Masukkan folder: \")\n",
        "target_sub = input(\"Substring yang ingin dihilangkan: \").strip()\n",
        "\n",
        "for filename in os.listdir(folder):\n",
        "    if not filename.startswith(target_sub):\n",
        "        continue  # Lewati file tidak cocok\n",
        "\n",
        "    new_name = filename[len(target_sub):]\n",
        "    if not new_name:\n",
        "        print(f\"Warning: {filename} menjadi kosong. Dilewati.\")\n",
        "        continue\n",
        "\n",
        "    old_path = os.path.join(folder, filename)\n",
        "    new_path = os.path.join(folder, new_name)\n",
        "\n",
        "    try:\n",
        "        os.rename(old_path, new_path)\n",
        "        print(f\"Renamed: {filename} → {new_name}\")\n",
        "    except Exception as e:\n",
        "        print(f\"Gagal mengganti nama {filename}: {str(e)}\")"
      ],
      "metadata": {
        "colab": {
          "base_uri": "https://localhost:8080/",
          "height": 245
        },
        "id": "utKZ6fkCLVaQ",
        "outputId": "9465855d-65fe-4d2f-fe3a-e6bea617a501"
      },
      "execution_count": 12,
      "outputs": [
        {
          "name": "stdout",
          "output_type": "stream",
          "text": [
            "Masukkan folder: raw_photo1.jpg\n",
            "Substring yang ingin dihilangkan: photo1.jpg\n"
          ]
        },
        {
          "output_type": "error",
          "ename": "FileNotFoundError",
          "evalue": "[Errno 2] No such file or directory: 'raw_photo1.jpg'",
          "traceback": [
            "\u001b[0;31m---------------------------------------------------------------------------\u001b[0m",
            "\u001b[0;31mFileNotFoundError\u001b[0m                         Traceback (most recent call last)",
            "\u001b[0;32m<ipython-input-12-144c75aaaab7>\u001b[0m in \u001b[0;36m<cell line: 0>\u001b[0;34m()\u001b[0m\n\u001b[1;32m      5\u001b[0m \u001b[0mtarget_sub\u001b[0m \u001b[0;34m=\u001b[0m \u001b[0minput\u001b[0m\u001b[0;34m(\u001b[0m\u001b[0;34m\"Substring yang ingin dihilangkan: \"\u001b[0m\u001b[0;34m)\u001b[0m\u001b[0;34m.\u001b[0m\u001b[0mstrip\u001b[0m\u001b[0;34m(\u001b[0m\u001b[0;34m)\u001b[0m\u001b[0;34m\u001b[0m\u001b[0;34m\u001b[0m\u001b[0m\n\u001b[1;32m      6\u001b[0m \u001b[0;34m\u001b[0m\u001b[0m\n\u001b[0;32m----> 7\u001b[0;31m \u001b[0;32mfor\u001b[0m \u001b[0mfilename\u001b[0m \u001b[0;32min\u001b[0m \u001b[0mos\u001b[0m\u001b[0;34m.\u001b[0m\u001b[0mlistdir\u001b[0m\u001b[0;34m(\u001b[0m\u001b[0mfolder\u001b[0m\u001b[0;34m)\u001b[0m\u001b[0;34m:\u001b[0m\u001b[0;34m\u001b[0m\u001b[0;34m\u001b[0m\u001b[0m\n\u001b[0m\u001b[1;32m      8\u001b[0m     \u001b[0;32mif\u001b[0m \u001b[0;32mnot\u001b[0m \u001b[0mfilename\u001b[0m\u001b[0;34m.\u001b[0m\u001b[0mstartswith\u001b[0m\u001b[0;34m(\u001b[0m\u001b[0mtarget_sub\u001b[0m\u001b[0;34m)\u001b[0m\u001b[0;34m:\u001b[0m\u001b[0;34m\u001b[0m\u001b[0;34m\u001b[0m\u001b[0m\n\u001b[1;32m      9\u001b[0m         \u001b[0;32mcontinue\u001b[0m  \u001b[0;31m# Lewati file tidak cocok\u001b[0m\u001b[0;34m\u001b[0m\u001b[0;34m\u001b[0m\u001b[0m\n",
            "\u001b[0;31mFileNotFoundError\u001b[0m: [Errno 2] No such file or directory: 'raw_photo1.jpg'"
          ]
        }
      ]
    }
  ]
}